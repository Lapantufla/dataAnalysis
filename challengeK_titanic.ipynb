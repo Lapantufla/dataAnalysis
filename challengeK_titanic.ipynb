{
  "cells": [
    {
      "cell_type": "code",
      "execution_count": 1,
      "metadata": {
        "colab": {
          "base_uri": "https://localhost:8080/"
        },
        "id": "tum7Zrv3hRRC",
        "outputId": "00221825-71ed-45a6-dd16-f5ad4d0e6afb"
      },
      "outputs": [
        {
          "output_type": "stream",
          "name": "stdout",
          "text": [
            "Mounted at /content/gdrive\n"
          ]
        }
      ],
      "source": [
        "import numpy as np\n",
        "import pandas as pd\n",
        "from google.colab import drive\n",
        "drive.mount('/content/gdrive')"
      ]
    },
    {
      "cell_type": "markdown",
      "source": [
        "Declaramos los siguientes paths que contendran la direccion de nuestro drive en el cual se encuentran los dataframes (tener en cuenta a la hora de probar)."
      ],
      "metadata": {
        "id": "uZqLiHdIFyCw"
      }
    },
    {
      "cell_type": "code",
      "execution_count": 2,
      "metadata": {
        "id": "yWQ9DihZhvNb"
      },
      "outputs": [],
      "source": [
        "path1 = \"/content/gdrive/MyDrive/data_science/challengeK_titanic/gender_submission.csv\"\n",
        "path2 = \"/content/gdrive/MyDrive/data_science/challengeK_titanic/test.csv\"\n",
        "path3 = \"/content/gdrive/MyDrive/data_science/challengeK_titanic/train.csv\""
      ]
    },
    {
      "cell_type": "markdown",
      "metadata": {
        "id": "-R0pRrbDkKBk"
      },
      "source": [
        "## Analizando los datos\n",
        "\n",
        "En este apartado analizaremos los datos. Haciendo graficos y tablas de correlaciones para entender mas los datos.\n",
        "\n",
        "Para ello tendremos que limpiar los datos tratando los **datos faltantes** y las **variables categoricas**."
      ]
    },
    {
      "cell_type": "code",
      "execution_count": null,
      "metadata": {
        "id": "RnmgnmA8m2Hg"
      },
      "outputs": [],
      "source": [
        "# importamos nuestros datos\n",
        "df_train = pd.read_csv(path3).sort_values(by=[\"PassengerId\"])\n",
        "df_test = pd.read_csv(path2).sort_values(by=[\"PassengerId\"])\n",
        "df_pred = pd.read_csv(path1).sort_values(by=[\"PassengerId\"])"
      ]
    },
    {
      "cell_type": "code",
      "source": [
        "# dropeamos la unica fila que no tiene valor de ticket\n",
        "merge= pd.merge(df_test,df_pred,on=\"PassengerId\")\n",
        "merge.dropna(axis=0, subset=[\"Fare\"], inplace=True)\n",
        "df_union = pd.concat([df_train, merge], ignore_index=True)\n"
      ],
      "metadata": {
        "id": "HLvR2ujMj9As"
      },
      "execution_count": null,
      "outputs": []
    },
    {
      "cell_type": "markdown",
      "metadata": {
        "id": "HntKyV3Um6aR"
      },
      "source": [
        "Ahora veamos cuantos datos con valores nulos tenemos."
      ]
    },
    {
      "cell_type": "code",
      "source": [
        "merge.isnull().sum()"
      ],
      "metadata": {
        "colab": {
          "base_uri": "https://localhost:8080/"
        },
        "id": "Lv5GH5rGWp3k",
        "outputId": "7400f9ca-a15d-41ef-aeb8-b8b0f9b3e8d2"
      },
      "execution_count": null,
      "outputs": [
        {
          "output_type": "execute_result",
          "data": {
            "text/plain": [
              "PassengerId      0\n",
              "Pclass           0\n",
              "Name             0\n",
              "Sex              0\n",
              "Age             86\n",
              "SibSp            0\n",
              "Parch            0\n",
              "Ticket           0\n",
              "Fare             0\n",
              "Cabin          326\n",
              "Embarked         0\n",
              "Survived         0\n",
              "dtype: int64"
            ]
          },
          "metadata": {},
          "execution_count": 97
        }
      ]
    },
    {
      "cell_type": "markdown",
      "source": [
        "Al ver que tenemos un total de 86 filas para la columna `Age` en donde no tenemos datos, al igual que en la columna `Cabin` donde tenemos 327 filas sin informacion, no pareciera que dropear las filas fuera una opcion.\n",
        "\n",
        "Vamos a tratar los valores nulos con el aprouch **Imputer**.\n",
        "\n",
        "Con respecto a las variables categoricas como `Sex`, `Cabin`, `Embarked`. Las trataremos con el aprouch **Ordinal Encoder**"
      ],
      "metadata": {
        "id": "bglJG9FQf4xu"
      }
    },
    {
      "cell_type": "code",
      "source": [
        "from sklearn.preprocessing import OrdinalEncoder\n",
        "ordinal_encoder = OrdinalEncoder()\n",
        "\n",
        "X_train = df_union.copy()\n",
        "\n",
        "# aplicamos el metodo Ordinal encoder a la columna Cabin y Embarked\n",
        "X_train[[\"Embarked\", \"Cabin\", \"Sex\"]] = ordinal_encoder.fit_transform(X_train[[\"Embarked\", \"Cabin\",\"Sex\"]])\n",
        "\n",
        "# Reemplazamos los valores nulos que existen en Cabin por un 0.\n",
        "for row in range(len(X_train[\"Cabin\"])):\n",
        "  if pd.isna(X_train[\"Cabin\"][row]):\n",
        "    X_train[\"Cabin\"][row] = 0\n",
        "\n",
        "# Reemplazamos los valores nulos que existen en Embarked por un 0.\n",
        "for row in range(len(X_train[\"Embarked\"])):\n",
        "  if pd.isna(X_train[\"Embarked\"][row]):\n",
        "    X_train[\"Embarked\"][row] = 0\n",
        "\n",
        "# aplicamos el metodo imputed a la columna ages y asi tratar los NULL\n",
        "from sklearn.impute import SimpleImputer\n",
        "\n",
        "df_train_plus = X_train[[\"Age\"]]\n",
        "\n",
        "my_imputer = SimpleImputer()\n",
        "\n",
        "imputed_age = pd.DataFrame(my_imputer.fit_transform(df_train_plus))\n",
        "\n",
        "imputed_age.columns = df_train_plus.columns"
      ],
      "metadata": {
        "colab": {
          "base_uri": "https://localhost:8080/"
        },
        "id": "0x2EmQa-xdsN",
        "outputId": "56c57793-3e22-4f64-b148-a921cc87d63e"
      },
      "execution_count": null,
      "outputs": [
        {
          "output_type": "stream",
          "name": "stderr",
          "text": [
            "/usr/local/lib/python3.7/dist-packages/ipykernel_launcher.py:12: SettingWithCopyWarning: \n",
            "A value is trying to be set on a copy of a slice from a DataFrame\n",
            "\n",
            "See the caveats in the documentation: https://pandas.pydata.org/pandas-docs/stable/user_guide/indexing.html#returning-a-view-versus-a-copy\n",
            "  if sys.path[0] == '':\n",
            "/usr/local/lib/python3.7/dist-packages/ipykernel_launcher.py:17: SettingWithCopyWarning: \n",
            "A value is trying to be set on a copy of a slice from a DataFrame\n",
            "\n",
            "See the caveats in the documentation: https://pandas.pydata.org/pandas-docs/stable/user_guide/indexing.html#returning-a-view-versus-a-copy\n"
          ]
        }
      ]
    },
    {
      "cell_type": "code",
      "source": [
        "# redondeamos la columna Age para no tener tantos decimales\n",
        "X_train[\"Age\"] = np.round(imputed_age)\n",
        "\n",
        "X_train"
      ],
      "metadata": {
        "colab": {
          "base_uri": "https://localhost:8080/",
          "height": 424
        },
        "id": "P72kqB9RY6vm",
        "outputId": "86ad07e9-31c1-401a-fe6d-de0d28c4d7c9"
      },
      "execution_count": null,
      "outputs": [
        {
          "output_type": "execute_result",
          "data": {
            "text/html": [
              "\n",
              "  <div id=\"df-ce2018db-f40b-4a17-86fd-1b119e5af0f1\">\n",
              "    <div class=\"colab-df-container\">\n",
              "      <div>\n",
              "<style scoped>\n",
              "    .dataframe tbody tr th:only-of-type {\n",
              "        vertical-align: middle;\n",
              "    }\n",
              "\n",
              "    .dataframe tbody tr th {\n",
              "        vertical-align: top;\n",
              "    }\n",
              "\n",
              "    .dataframe thead th {\n",
              "        text-align: right;\n",
              "    }\n",
              "</style>\n",
              "<table border=\"1\" class=\"dataframe\">\n",
              "  <thead>\n",
              "    <tr style=\"text-align: right;\">\n",
              "      <th></th>\n",
              "      <th>PassengerId</th>\n",
              "      <th>Survived</th>\n",
              "      <th>Pclass</th>\n",
              "      <th>Name</th>\n",
              "      <th>Sex</th>\n",
              "      <th>Age</th>\n",
              "      <th>SibSp</th>\n",
              "      <th>Parch</th>\n",
              "      <th>Ticket</th>\n",
              "      <th>Fare</th>\n",
              "      <th>Cabin</th>\n",
              "      <th>Embarked</th>\n",
              "    </tr>\n",
              "  </thead>\n",
              "  <tbody>\n",
              "    <tr>\n",
              "      <th>0</th>\n",
              "      <td>1</td>\n",
              "      <td>0</td>\n",
              "      <td>3</td>\n",
              "      <td>Braund, Mr. Owen Harris</td>\n",
              "      <td>1.0</td>\n",
              "      <td>22.0</td>\n",
              "      <td>1</td>\n",
              "      <td>0</td>\n",
              "      <td>A/5 21171</td>\n",
              "      <td>7.2500</td>\n",
              "      <td>0.0</td>\n",
              "      <td>2.0</td>\n",
              "    </tr>\n",
              "    <tr>\n",
              "      <th>1</th>\n",
              "      <td>2</td>\n",
              "      <td>1</td>\n",
              "      <td>1</td>\n",
              "      <td>Cumings, Mrs. John Bradley (Florence Briggs Th...</td>\n",
              "      <td>0.0</td>\n",
              "      <td>38.0</td>\n",
              "      <td>1</td>\n",
              "      <td>0</td>\n",
              "      <td>PC 17599</td>\n",
              "      <td>71.2833</td>\n",
              "      <td>106.0</td>\n",
              "      <td>0.0</td>\n",
              "    </tr>\n",
              "    <tr>\n",
              "      <th>2</th>\n",
              "      <td>3</td>\n",
              "      <td>1</td>\n",
              "      <td>3</td>\n",
              "      <td>Heikkinen, Miss. Laina</td>\n",
              "      <td>0.0</td>\n",
              "      <td>26.0</td>\n",
              "      <td>0</td>\n",
              "      <td>0</td>\n",
              "      <td>STON/O2. 3101282</td>\n",
              "      <td>7.9250</td>\n",
              "      <td>0.0</td>\n",
              "      <td>2.0</td>\n",
              "    </tr>\n",
              "    <tr>\n",
              "      <th>3</th>\n",
              "      <td>4</td>\n",
              "      <td>1</td>\n",
              "      <td>1</td>\n",
              "      <td>Futrelle, Mrs. Jacques Heath (Lily May Peel)</td>\n",
              "      <td>0.0</td>\n",
              "      <td>35.0</td>\n",
              "      <td>1</td>\n",
              "      <td>0</td>\n",
              "      <td>113803</td>\n",
              "      <td>53.1000</td>\n",
              "      <td>70.0</td>\n",
              "      <td>2.0</td>\n",
              "    </tr>\n",
              "    <tr>\n",
              "      <th>4</th>\n",
              "      <td>5</td>\n",
              "      <td>0</td>\n",
              "      <td>3</td>\n",
              "      <td>Allen, Mr. William Henry</td>\n",
              "      <td>1.0</td>\n",
              "      <td>35.0</td>\n",
              "      <td>0</td>\n",
              "      <td>0</td>\n",
              "      <td>373450</td>\n",
              "      <td>8.0500</td>\n",
              "      <td>0.0</td>\n",
              "      <td>2.0</td>\n",
              "    </tr>\n",
              "    <tr>\n",
              "      <th>...</th>\n",
              "      <td>...</td>\n",
              "      <td>...</td>\n",
              "      <td>...</td>\n",
              "      <td>...</td>\n",
              "      <td>...</td>\n",
              "      <td>...</td>\n",
              "      <td>...</td>\n",
              "      <td>...</td>\n",
              "      <td>...</td>\n",
              "      <td>...</td>\n",
              "      <td>...</td>\n",
              "      <td>...</td>\n",
              "    </tr>\n",
              "    <tr>\n",
              "      <th>1303</th>\n",
              "      <td>1305</td>\n",
              "      <td>0</td>\n",
              "      <td>3</td>\n",
              "      <td>Spector, Mr. Woolf</td>\n",
              "      <td>1.0</td>\n",
              "      <td>30.0</td>\n",
              "      <td>0</td>\n",
              "      <td>0</td>\n",
              "      <td>A.5. 3236</td>\n",
              "      <td>8.0500</td>\n",
              "      <td>0.0</td>\n",
              "      <td>2.0</td>\n",
              "    </tr>\n",
              "    <tr>\n",
              "      <th>1304</th>\n",
              "      <td>1306</td>\n",
              "      <td>1</td>\n",
              "      <td>1</td>\n",
              "      <td>Oliva y Ocana, Dona. Fermina</td>\n",
              "      <td>0.0</td>\n",
              "      <td>39.0</td>\n",
              "      <td>0</td>\n",
              "      <td>0</td>\n",
              "      <td>PC 17758</td>\n",
              "      <td>108.9000</td>\n",
              "      <td>64.0</td>\n",
              "      <td>0.0</td>\n",
              "    </tr>\n",
              "    <tr>\n",
              "      <th>1305</th>\n",
              "      <td>1307</td>\n",
              "      <td>0</td>\n",
              "      <td>3</td>\n",
              "      <td>Saether, Mr. Simon Sivertsen</td>\n",
              "      <td>1.0</td>\n",
              "      <td>38.0</td>\n",
              "      <td>0</td>\n",
              "      <td>0</td>\n",
              "      <td>SOTON/O.Q. 3101262</td>\n",
              "      <td>7.2500</td>\n",
              "      <td>0.0</td>\n",
              "      <td>2.0</td>\n",
              "    </tr>\n",
              "    <tr>\n",
              "      <th>1306</th>\n",
              "      <td>1308</td>\n",
              "      <td>0</td>\n",
              "      <td>3</td>\n",
              "      <td>Ware, Mr. Frederick</td>\n",
              "      <td>1.0</td>\n",
              "      <td>30.0</td>\n",
              "      <td>0</td>\n",
              "      <td>0</td>\n",
              "      <td>359309</td>\n",
              "      <td>8.0500</td>\n",
              "      <td>0.0</td>\n",
              "      <td>2.0</td>\n",
              "    </tr>\n",
              "    <tr>\n",
              "      <th>1307</th>\n",
              "      <td>1309</td>\n",
              "      <td>0</td>\n",
              "      <td>3</td>\n",
              "      <td>Peter, Master. Michael J</td>\n",
              "      <td>1.0</td>\n",
              "      <td>30.0</td>\n",
              "      <td>1</td>\n",
              "      <td>1</td>\n",
              "      <td>2668</td>\n",
              "      <td>22.3583</td>\n",
              "      <td>0.0</td>\n",
              "      <td>0.0</td>\n",
              "    </tr>\n",
              "  </tbody>\n",
              "</table>\n",
              "<p>1308 rows × 12 columns</p>\n",
              "</div>\n",
              "      <button class=\"colab-df-convert\" onclick=\"convertToInteractive('df-ce2018db-f40b-4a17-86fd-1b119e5af0f1')\"\n",
              "              title=\"Convert this dataframe to an interactive table.\"\n",
              "              style=\"display:none;\">\n",
              "        \n",
              "  <svg xmlns=\"http://www.w3.org/2000/svg\" height=\"24px\"viewBox=\"0 0 24 24\"\n",
              "       width=\"24px\">\n",
              "    <path d=\"M0 0h24v24H0V0z\" fill=\"none\"/>\n",
              "    <path d=\"M18.56 5.44l.94 2.06.94-2.06 2.06-.94-2.06-.94-.94-2.06-.94 2.06-2.06.94zm-11 1L8.5 8.5l.94-2.06 2.06-.94-2.06-.94L8.5 2.5l-.94 2.06-2.06.94zm10 10l.94 2.06.94-2.06 2.06-.94-2.06-.94-.94-2.06-.94 2.06-2.06.94z\"/><path d=\"M17.41 7.96l-1.37-1.37c-.4-.4-.92-.59-1.43-.59-.52 0-1.04.2-1.43.59L10.3 9.45l-7.72 7.72c-.78.78-.78 2.05 0 2.83L4 21.41c.39.39.9.59 1.41.59.51 0 1.02-.2 1.41-.59l7.78-7.78 2.81-2.81c.8-.78.8-2.07 0-2.86zM5.41 20L4 18.59l7.72-7.72 1.47 1.35L5.41 20z\"/>\n",
              "  </svg>\n",
              "      </button>\n",
              "      \n",
              "  <style>\n",
              "    .colab-df-container {\n",
              "      display:flex;\n",
              "      flex-wrap:wrap;\n",
              "      gap: 12px;\n",
              "    }\n",
              "\n",
              "    .colab-df-convert {\n",
              "      background-color: #E8F0FE;\n",
              "      border: none;\n",
              "      border-radius: 50%;\n",
              "      cursor: pointer;\n",
              "      display: none;\n",
              "      fill: #1967D2;\n",
              "      height: 32px;\n",
              "      padding: 0 0 0 0;\n",
              "      width: 32px;\n",
              "    }\n",
              "\n",
              "    .colab-df-convert:hover {\n",
              "      background-color: #E2EBFA;\n",
              "      box-shadow: 0px 1px 2px rgba(60, 64, 67, 0.3), 0px 1px 3px 1px rgba(60, 64, 67, 0.15);\n",
              "      fill: #174EA6;\n",
              "    }\n",
              "\n",
              "    [theme=dark] .colab-df-convert {\n",
              "      background-color: #3B4455;\n",
              "      fill: #D2E3FC;\n",
              "    }\n",
              "\n",
              "    [theme=dark] .colab-df-convert:hover {\n",
              "      background-color: #434B5C;\n",
              "      box-shadow: 0px 1px 3px 1px rgba(0, 0, 0, 0.15);\n",
              "      filter: drop-shadow(0px 1px 2px rgba(0, 0, 0, 0.3));\n",
              "      fill: #FFFFFF;\n",
              "    }\n",
              "  </style>\n",
              "\n",
              "      <script>\n",
              "        const buttonEl =\n",
              "          document.querySelector('#df-ce2018db-f40b-4a17-86fd-1b119e5af0f1 button.colab-df-convert');\n",
              "        buttonEl.style.display =\n",
              "          google.colab.kernel.accessAllowed ? 'block' : 'none';\n",
              "\n",
              "        async function convertToInteractive(key) {\n",
              "          const element = document.querySelector('#df-ce2018db-f40b-4a17-86fd-1b119e5af0f1');\n",
              "          const dataTable =\n",
              "            await google.colab.kernel.invokeFunction('convertToInteractive',\n",
              "                                                     [key], {});\n",
              "          if (!dataTable) return;\n",
              "\n",
              "          const docLinkHtml = 'Like what you see? Visit the ' +\n",
              "            '<a target=\"_blank\" href=https://colab.research.google.com/notebooks/data_table.ipynb>data table notebook</a>'\n",
              "            + ' to learn more about interactive tables.';\n",
              "          element.innerHTML = '';\n",
              "          dataTable['output_type'] = 'display_data';\n",
              "          await google.colab.output.renderOutput(dataTable, element);\n",
              "          const docLink = document.createElement('div');\n",
              "          docLink.innerHTML = docLinkHtml;\n",
              "          element.appendChild(docLink);\n",
              "        }\n",
              "      </script>\n",
              "    </div>\n",
              "  </div>\n",
              "  "
            ],
            "text/plain": [
              "      PassengerId  Survived  Pclass  ...      Fare  Cabin  Embarked\n",
              "0               1         0       3  ...    7.2500    0.0       2.0\n",
              "1               2         1       1  ...   71.2833  106.0       0.0\n",
              "2               3         1       3  ...    7.9250    0.0       2.0\n",
              "3               4         1       1  ...   53.1000   70.0       2.0\n",
              "4               5         0       3  ...    8.0500    0.0       2.0\n",
              "...           ...       ...     ...  ...       ...    ...       ...\n",
              "1303         1305         0       3  ...    8.0500    0.0       2.0\n",
              "1304         1306         1       1  ...  108.9000   64.0       0.0\n",
              "1305         1307         0       3  ...    7.2500    0.0       2.0\n",
              "1306         1308         0       3  ...    8.0500    0.0       2.0\n",
              "1307         1309         0       3  ...   22.3583    0.0       0.0\n",
              "\n",
              "[1308 rows x 12 columns]"
            ]
          },
          "metadata": {},
          "execution_count": 99
        }
      ]
    },
    {
      "cell_type": "markdown",
      "source": [
        "Y ahora podemos observar que hemos limpiado nuestros datos.\n",
        "Ahora podemos proceder a analizarlos mas facilmente."
      ],
      "metadata": {
        "id": "HjfUSzSLhHbL"
      }
    },
    {
      "cell_type": "code",
      "source": [
        "X_train.isnull().sum()"
      ],
      "metadata": {
        "colab": {
          "base_uri": "https://localhost:8080/"
        },
        "id": "gZNnk39cZ1zm",
        "outputId": "2d23e920-4c4c-48c1-ce89-0dd763983766"
      },
      "execution_count": null,
      "outputs": [
        {
          "output_type": "execute_result",
          "data": {
            "text/plain": [
              "PassengerId    0\n",
              "Survived       0\n",
              "Pclass         0\n",
              "Name           0\n",
              "Sex            0\n",
              "Age            0\n",
              "SibSp          0\n",
              "Parch          0\n",
              "Ticket         0\n",
              "Fare           0\n",
              "Cabin          0\n",
              "Embarked       0\n",
              "dtype: int64"
            ]
          },
          "metadata": {},
          "execution_count": 100
        }
      ]
    },
    {
      "cell_type": "markdown",
      "source": [
        "Primero podemos probar haciendo una matris de correlaciones para ver que tan relacionadas estan nuestras variables."
      ],
      "metadata": {
        "id": "z5dm5zxEhP82"
      }
    },
    {
      "cell_type": "code",
      "source": [
        "# como vamos a analizar los supervivientes, vamos a filtrar por superviviente antes de armar la matris de relaciones\n",
        "X_train_surv = X_train[X_train[\"Survived\"] == 1].copy()\n",
        "\n",
        "X_train_surv.drop(columns=[\"PassengerId\", \"Survived\"], inplace=True)\n",
        "\n",
        "corr = X_train_surv.corr()\n",
        "corr.style.background_gradient()"
      ],
      "metadata": {
        "colab": {
          "base_uri": "https://localhost:8080/",
          "height": 300
        },
        "id": "DBL71UlYafTW",
        "outputId": "e4b53cc7-7c04-4a6c-bb40-107b03291ca3"
      },
      "execution_count": null,
      "outputs": [
        {
          "output_type": "execute_result",
          "data": {
            "text/html": [
              "<style type=\"text/css\">\n",
              "#T_1e37a_row0_col0, #T_1e37a_row1_col1, #T_1e37a_row2_col2, #T_1e37a_row3_col3, #T_1e37a_row4_col4, #T_1e37a_row5_col5, #T_1e37a_row6_col6, #T_1e37a_row7_col7 {\n",
              "  background-color: #023858;\n",
              "  color: #f1f1f1;\n",
              "}\n",
              "#T_1e37a_row0_col1, #T_1e37a_row1_col4 {\n",
              "  background-color: #f2ecf5;\n",
              "  color: #000000;\n",
              "}\n",
              "#T_1e37a_row0_col2, #T_1e37a_row0_col5, #T_1e37a_row0_col6, #T_1e37a_row2_col3, #T_1e37a_row2_col4, #T_1e37a_row4_col1, #T_1e37a_row5_col0, #T_1e37a_row5_col7 {\n",
              "  background-color: #fff7fb;\n",
              "  color: #000000;\n",
              "}\n",
              "#T_1e37a_row0_col3 {\n",
              "  background-color: #f3edf5;\n",
              "  color: #000000;\n",
              "}\n",
              "#T_1e37a_row0_col4 {\n",
              "  background-color: #dfddec;\n",
              "  color: #000000;\n",
              "}\n",
              "#T_1e37a_row0_col7 {\n",
              "  background-color: #b1c2de;\n",
              "  color: #000000;\n",
              "}\n",
              "#T_1e37a_row1_col0 {\n",
              "  background-color: #abbfdc;\n",
              "  color: #000000;\n",
              "}\n",
              "#T_1e37a_row1_col2 {\n",
              "  background-color: #d2d3e7;\n",
              "  color: #000000;\n",
              "}\n",
              "#T_1e37a_row1_col3, #T_1e37a_row6_col0 {\n",
              "  background-color: #fdf5fa;\n",
              "  color: #000000;\n",
              "}\n",
              "#T_1e37a_row1_col5 {\n",
              "  background-color: #b9c6e0;\n",
              "  color: #000000;\n",
              "}\n",
              "#T_1e37a_row1_col6 {\n",
              "  background-color: #a7bddb;\n",
              "  color: #000000;\n",
              "}\n",
              "#T_1e37a_row1_col7 {\n",
              "  background-color: #d2d2e7;\n",
              "  color: #000000;\n",
              "}\n",
              "#T_1e37a_row2_col0 {\n",
              "  background-color: #efe9f3;\n",
              "  color: #000000;\n",
              "}\n",
              "#T_1e37a_row2_col1 {\n",
              "  background-color: #faf3f9;\n",
              "  color: #000000;\n",
              "}\n",
              "#T_1e37a_row2_col5 {\n",
              "  background-color: #73a9cf;\n",
              "  color: #f1f1f1;\n",
              "}\n",
              "#T_1e37a_row2_col6 {\n",
              "  background-color: #84b0d3;\n",
              "  color: #f1f1f1;\n",
              "}\n",
              "#T_1e37a_row2_col7 {\n",
              "  background-color: #ece7f2;\n",
              "  color: #000000;\n",
              "}\n",
              "#T_1e37a_row3_col0 {\n",
              "  background-color: #afc1dd;\n",
              "  color: #000000;\n",
              "}\n",
              "#T_1e37a_row3_col1 {\n",
              "  background-color: #fef6fa;\n",
              "  color: #000000;\n",
              "}\n",
              "#T_1e37a_row3_col2 {\n",
              "  background-color: #d9d8ea;\n",
              "  color: #000000;\n",
              "}\n",
              "#T_1e37a_row3_col4 {\n",
              "  background-color: #a2bcda;\n",
              "  color: #000000;\n",
              "}\n",
              "#T_1e37a_row3_col5 {\n",
              "  background-color: #94b6d7;\n",
              "  color: #000000;\n",
              "}\n",
              "#T_1e37a_row3_col6, #T_1e37a_row4_col0 {\n",
              "  background-color: #a5bddb;\n",
              "  color: #000000;\n",
              "}\n",
              "#T_1e37a_row3_col7 {\n",
              "  background-color: #d0d1e6;\n",
              "  color: #000000;\n",
              "}\n",
              "#T_1e37a_row4_col2, #T_1e37a_row6_col4, #T_1e37a_row6_col7, #T_1e37a_row7_col3 {\n",
              "  background-color: #e7e3f0;\n",
              "  color: #000000;\n",
              "}\n",
              "#T_1e37a_row4_col3 {\n",
              "  background-color: #b5c4df;\n",
              "  color: #000000;\n",
              "}\n",
              "#T_1e37a_row4_col5 {\n",
              "  background-color: #8cb3d5;\n",
              "  color: #000000;\n",
              "}\n",
              "#T_1e37a_row4_col6 {\n",
              "  background-color: #b3c3de;\n",
              "  color: #000000;\n",
              "}\n",
              "#T_1e37a_row4_col7 {\n",
              "  background-color: #c8cde4;\n",
              "  color: #000000;\n",
              "}\n",
              "#T_1e37a_row5_col1 {\n",
              "  background-color: #fbf4f9;\n",
              "  color: #000000;\n",
              "}\n",
              "#T_1e37a_row5_col2 {\n",
              "  background-color: #8bb2d4;\n",
              "  color: #000000;\n",
              "}\n",
              "#T_1e37a_row5_col3 {\n",
              "  background-color: #e0dded;\n",
              "  color: #000000;\n",
              "}\n",
              "#T_1e37a_row5_col4 {\n",
              "  background-color: #cacee5;\n",
              "  color: #000000;\n",
              "}\n",
              "#T_1e37a_row5_col6 {\n",
              "  background-color: #6fa7ce;\n",
              "  color: #f1f1f1;\n",
              "}\n",
              "#T_1e37a_row6_col1 {\n",
              "  background-color: #ede7f2;\n",
              "  color: #000000;\n",
              "}\n",
              "#T_1e37a_row6_col2 {\n",
              "  background-color: #9ab8d8;\n",
              "  color: #000000;\n",
              "}\n",
              "#T_1e37a_row6_col3 {\n",
              "  background-color: #ebe6f2;\n",
              "  color: #000000;\n",
              "}\n",
              "#T_1e37a_row6_col5 {\n",
              "  background-color: #69a5cc;\n",
              "  color: #f1f1f1;\n",
              "}\n",
              "#T_1e37a_row7_col0 {\n",
              "  background-color: #80aed2;\n",
              "  color: #f1f1f1;\n",
              "}\n",
              "#T_1e37a_row7_col1 {\n",
              "  background-color: #eae6f1;\n",
              "  color: #000000;\n",
              "}\n",
              "#T_1e37a_row7_col2 {\n",
              "  background-color: #d8d7e9;\n",
              "  color: #000000;\n",
              "}\n",
              "#T_1e37a_row7_col4 {\n",
              "  background-color: #d3d4e7;\n",
              "  color: #000000;\n",
              "}\n",
              "#T_1e37a_row7_col5 {\n",
              "  background-color: #dcdaeb;\n",
              "  color: #000000;\n",
              "}\n",
              "#T_1e37a_row7_col6 {\n",
              "  background-color: #bdc8e1;\n",
              "  color: #000000;\n",
              "}\n",
              "</style>\n",
              "<table id=\"T_1e37a_\" class=\"dataframe\">\n",
              "  <thead>\n",
              "    <tr>\n",
              "      <th class=\"blank level0\" >&nbsp;</th>\n",
              "      <th class=\"col_heading level0 col0\" >Pclass</th>\n",
              "      <th class=\"col_heading level0 col1\" >Sex</th>\n",
              "      <th class=\"col_heading level0 col2\" >Age</th>\n",
              "      <th class=\"col_heading level0 col3\" >SibSp</th>\n",
              "      <th class=\"col_heading level0 col4\" >Parch</th>\n",
              "      <th class=\"col_heading level0 col5\" >Fare</th>\n",
              "      <th class=\"col_heading level0 col6\" >Cabin</th>\n",
              "      <th class=\"col_heading level0 col7\" >Embarked</th>\n",
              "    </tr>\n",
              "  </thead>\n",
              "  <tbody>\n",
              "    <tr>\n",
              "      <th id=\"T_1e37a_level0_row0\" class=\"row_heading level0 row0\" >Pclass</th>\n",
              "      <td id=\"T_1e37a_row0_col0\" class=\"data row0 col0\" >1.000000</td>\n",
              "      <td id=\"T_1e37a_row0_col1\" class=\"data row0 col1\" >0.005011</td>\n",
              "      <td id=\"T_1e37a_row0_col2\" class=\"data row0 col2\" >-0.390520</td>\n",
              "      <td id=\"T_1e37a_row0_col3\" class=\"data row0 col3\" >-0.010178</td>\n",
              "      <td id=\"T_1e37a_row0_col4\" class=\"data row0 col4\" >0.032544</td>\n",
              "      <td id=\"T_1e37a_row0_col5\" class=\"data row0 col5\" >-0.554873</td>\n",
              "      <td id=\"T_1e37a_row0_col6\" class=\"data row0 col6\" >-0.525083</td>\n",
              "      <td id=\"T_1e37a_row0_col7\" class=\"data row0 col7\" >0.177417</td>\n",
              "    </tr>\n",
              "    <tr>\n",
              "      <th id=\"T_1e37a_level0_row1\" class=\"row_heading level0 row1\" >Sex</th>\n",
              "      <td id=\"T_1e37a_row1_col0\" class=\"data row1 col0\" >0.005011</td>\n",
              "      <td id=\"T_1e37a_row1_col1\" class=\"data row1 col1\" >1.000000</td>\n",
              "      <td id=\"T_1e37a_row1_col2\" class=\"data row1 col2\" >-0.054428</td>\n",
              "      <td id=\"T_1e37a_row1_col3\" class=\"data row1 col3\" >-0.077702</td>\n",
              "      <td id=\"T_1e37a_row1_col4\" class=\"data row1 col4\" >-0.088853</td>\n",
              "      <td id=\"T_1e37a_row1_col5\" class=\"data row1 col5\" >-0.062041</td>\n",
              "      <td id=\"T_1e37a_row1_col6\" class=\"data row1 col6\" >0.044237</td>\n",
              "      <td id=\"T_1e37a_row1_col7\" class=\"data row1 col7\" >0.058270</td>\n",
              "    </tr>\n",
              "    <tr>\n",
              "      <th id=\"T_1e37a_level0_row2\" class=\"row_heading level0 row2\" >Age</th>\n",
              "      <td id=\"T_1e37a_row2_col0\" class=\"data row2 col0\" >-0.390520</td>\n",
              "      <td id=\"T_1e37a_row2_col1\" class=\"data row2 col1\" >-0.054428</td>\n",
              "      <td id=\"T_1e37a_row2_col2\" class=\"data row2 col2\" >1.000000</td>\n",
              "      <td id=\"T_1e37a_row2_col3\" class=\"data row2 col3\" >-0.096845</td>\n",
              "      <td id=\"T_1e37a_row2_col4\" class=\"data row2 col4\" >-0.188319</td>\n",
              "      <td id=\"T_1e37a_row2_col5\" class=\"data row2 col5\" >0.227981</td>\n",
              "      <td id=\"T_1e37a_row2_col6\" class=\"data row2 col6\" >0.173201</td>\n",
              "      <td id=\"T_1e37a_row2_col7\" class=\"data row2 col7\" >-0.091630</td>\n",
              "    </tr>\n",
              "    <tr>\n",
              "      <th id=\"T_1e37a_level0_row3\" class=\"row_heading level0 row3\" >SibSp</th>\n",
              "      <td id=\"T_1e37a_row3_col0\" class=\"data row3 col0\" >-0.010178</td>\n",
              "      <td id=\"T_1e37a_row3_col1\" class=\"data row3 col1\" >-0.077702</td>\n",
              "      <td id=\"T_1e37a_row3_col2\" class=\"data row3 col2\" >-0.096845</td>\n",
              "      <td id=\"T_1e37a_row3_col3\" class=\"data row3 col3\" >1.000000</td>\n",
              "      <td id=\"T_1e37a_row3_col4\" class=\"data row3 col4\" >0.266711</td>\n",
              "      <td id=\"T_1e37a_row3_col5\" class=\"data row3 col5\" >0.101009</td>\n",
              "      <td id=\"T_1e37a_row3_col6\" class=\"data row3 col6\" >0.047014</td>\n",
              "      <td id=\"T_1e37a_row3_col7\" class=\"data row3 col7\" >0.068186</td>\n",
              "    </tr>\n",
              "    <tr>\n",
              "      <th id=\"T_1e37a_level0_row4\" class=\"row_heading level0 row4\" >Parch</th>\n",
              "      <td id=\"T_1e37a_row4_col0\" class=\"data row4 col0\" >0.032544</td>\n",
              "      <td id=\"T_1e37a_row4_col1\" class=\"data row4 col1\" >-0.088853</td>\n",
              "      <td id=\"T_1e37a_row4_col2\" class=\"data row4 col2\" >-0.188319</td>\n",
              "      <td id=\"T_1e37a_row4_col3\" class=\"data row4 col3\" >0.266711</td>\n",
              "      <td id=\"T_1e37a_row4_col4\" class=\"data row4 col4\" >1.000000</td>\n",
              "      <td id=\"T_1e37a_row4_col5\" class=\"data row4 col5\" >0.128744</td>\n",
              "      <td id=\"T_1e37a_row4_col6\" class=\"data row4 col6\" >-0.011800</td>\n",
              "      <td id=\"T_1e37a_row4_col7\" class=\"data row4 col7\" >0.093309</td>\n",
              "    </tr>\n",
              "    <tr>\n",
              "      <th id=\"T_1e37a_level0_row5\" class=\"row_heading level0 row5\" >Fare</th>\n",
              "      <td id=\"T_1e37a_row5_col0\" class=\"data row5 col0\" >-0.554873</td>\n",
              "      <td id=\"T_1e37a_row5_col1\" class=\"data row5 col1\" >-0.062041</td>\n",
              "      <td id=\"T_1e37a_row5_col2\" class=\"data row5 col2\" >0.227981</td>\n",
              "      <td id=\"T_1e37a_row5_col3\" class=\"data row5 col3\" >0.101009</td>\n",
              "      <td id=\"T_1e37a_row5_col4\" class=\"data row5 col4\" >0.128744</td>\n",
              "      <td id=\"T_1e37a_row5_col5\" class=\"data row5 col5\" >1.000000</td>\n",
              "      <td id=\"T_1e37a_row5_col6\" class=\"data row5 col6\" >0.254326</td>\n",
              "      <td id=\"T_1e37a_row5_col7\" class=\"data row5 col7\" >-0.248322</td>\n",
              "    </tr>\n",
              "    <tr>\n",
              "      <th id=\"T_1e37a_level0_row6\" class=\"row_heading level0 row6\" >Cabin</th>\n",
              "      <td id=\"T_1e37a_row6_col0\" class=\"data row6 col0\" >-0.525083</td>\n",
              "      <td id=\"T_1e37a_row6_col1\" class=\"data row6 col1\" >0.044237</td>\n",
              "      <td id=\"T_1e37a_row6_col2\" class=\"data row6 col2\" >0.173201</td>\n",
              "      <td id=\"T_1e37a_row6_col3\" class=\"data row6 col3\" >0.047014</td>\n",
              "      <td id=\"T_1e37a_row6_col4\" class=\"data row6 col4\" >-0.011800</td>\n",
              "      <td id=\"T_1e37a_row6_col5\" class=\"data row6 col5\" >0.254326</td>\n",
              "      <td id=\"T_1e37a_row6_col6\" class=\"data row6 col6\" >1.000000</td>\n",
              "      <td id=\"T_1e37a_row6_col7\" class=\"data row6 col7\" >-0.058931</td>\n",
              "    </tr>\n",
              "    <tr>\n",
              "      <th id=\"T_1e37a_level0_row7\" class=\"row_heading level0 row7\" >Embarked</th>\n",
              "      <td id=\"T_1e37a_row7_col0\" class=\"data row7 col0\" >0.177417</td>\n",
              "      <td id=\"T_1e37a_row7_col1\" class=\"data row7 col1\" >0.058270</td>\n",
              "      <td id=\"T_1e37a_row7_col2\" class=\"data row7 col2\" >-0.091630</td>\n",
              "      <td id=\"T_1e37a_row7_col3\" class=\"data row7 col3\" >0.068186</td>\n",
              "      <td id=\"T_1e37a_row7_col4\" class=\"data row7 col4\" >0.093309</td>\n",
              "      <td id=\"T_1e37a_row7_col5\" class=\"data row7 col5\" >-0.248322</td>\n",
              "      <td id=\"T_1e37a_row7_col6\" class=\"data row7 col6\" >-0.058931</td>\n",
              "      <td id=\"T_1e37a_row7_col7\" class=\"data row7 col7\" >1.000000</td>\n",
              "    </tr>\n",
              "  </tbody>\n",
              "</table>\n"
            ],
            "text/plain": [
              "<pandas.io.formats.style.Styler at 0x7f2819095510>"
            ]
          },
          "metadata": {},
          "execution_count": 101
        }
      ]
    },
    {
      "cell_type": "markdown",
      "source": [
        "Podemos observar que la columna `Cabin` y `Fare` podrian estar un poco relacionadas. Al igual que las columnas `Parch` y `SibSp`."
      ],
      "metadata": {
        "id": "y6zm452MhXoS"
      }
    },
    {
      "cell_type": "code",
      "source": [
        "df_survived= X_train_surv\n",
        "\n",
        "total_survived = len(df_survived)\n",
        "\n",
        "df_survived.describe()"
      ],
      "metadata": {
        "colab": {
          "base_uri": "https://localhost:8080/",
          "height": 300
        },
        "id": "A1TirWfRU2Ed",
        "outputId": "403724a3-bbb0-40e2-9903-6472a8551140"
      },
      "execution_count": null,
      "outputs": [
        {
          "output_type": "execute_result",
          "data": {
            "text/html": [
              "\n",
              "  <div id=\"df-cd57fa83-9927-4217-aed3-37a21d9ec449\">\n",
              "    <div class=\"colab-df-container\">\n",
              "      <div>\n",
              "<style scoped>\n",
              "    .dataframe tbody tr th:only-of-type {\n",
              "        vertical-align: middle;\n",
              "    }\n",
              "\n",
              "    .dataframe tbody tr th {\n",
              "        vertical-align: top;\n",
              "    }\n",
              "\n",
              "    .dataframe thead th {\n",
              "        text-align: right;\n",
              "    }\n",
              "</style>\n",
              "<table border=\"1\" class=\"dataframe\">\n",
              "  <thead>\n",
              "    <tr style=\"text-align: right;\">\n",
              "      <th></th>\n",
              "      <th>Pclass</th>\n",
              "      <th>Sex</th>\n",
              "      <th>Age</th>\n",
              "      <th>SibSp</th>\n",
              "      <th>Parch</th>\n",
              "      <th>Fare</th>\n",
              "      <th>Cabin</th>\n",
              "      <th>Embarked</th>\n",
              "    </tr>\n",
              "  </thead>\n",
              "  <tbody>\n",
              "    <tr>\n",
              "      <th>count</th>\n",
              "      <td>494.000000</td>\n",
              "      <td>494.000000</td>\n",
              "      <td>494.000000</td>\n",
              "      <td>494.000000</td>\n",
              "      <td>494.000000</td>\n",
              "      <td>494.000000</td>\n",
              "      <td>494.000000</td>\n",
              "      <td>494.000000</td>\n",
              "    </tr>\n",
              "    <tr>\n",
              "      <th>mean</th>\n",
              "      <td>2.010121</td>\n",
              "      <td>0.220648</td>\n",
              "      <td>29.097166</td>\n",
              "      <td>0.502024</td>\n",
              "      <td>0.506073</td>\n",
              "      <td>48.811497</td>\n",
              "      <td>35.419028</td>\n",
              "      <td>1.344130</td>\n",
              "    </tr>\n",
              "    <tr>\n",
              "      <th>std</th>\n",
              "      <td>0.874416</td>\n",
              "      <td>0.415104</td>\n",
              "      <td>13.878883</td>\n",
              "      <td>0.799972</td>\n",
              "      <td>0.888833</td>\n",
              "      <td>68.594401</td>\n",
              "      <td>56.040377</td>\n",
              "      <td>0.879676</td>\n",
              "    </tr>\n",
              "    <tr>\n",
              "      <th>min</th>\n",
              "      <td>1.000000</td>\n",
              "      <td>0.000000</td>\n",
              "      <td>0.000000</td>\n",
              "      <td>0.000000</td>\n",
              "      <td>0.000000</td>\n",
              "      <td>0.000000</td>\n",
              "      <td>0.000000</td>\n",
              "      <td>0.000000</td>\n",
              "    </tr>\n",
              "    <tr>\n",
              "      <th>25%</th>\n",
              "      <td>1.000000</td>\n",
              "      <td>0.000000</td>\n",
              "      <td>22.000000</td>\n",
              "      <td>0.000000</td>\n",
              "      <td>0.000000</td>\n",
              "      <td>11.431275</td>\n",
              "      <td>0.000000</td>\n",
              "      <td>0.000000</td>\n",
              "    </tr>\n",
              "    <tr>\n",
              "      <th>50%</th>\n",
              "      <td>2.000000</td>\n",
              "      <td>0.000000</td>\n",
              "      <td>30.000000</td>\n",
              "      <td>0.000000</td>\n",
              "      <td>0.000000</td>\n",
              "      <td>26.000000</td>\n",
              "      <td>0.000000</td>\n",
              "      <td>2.000000</td>\n",
              "    </tr>\n",
              "    <tr>\n",
              "      <th>75%</th>\n",
              "      <td>3.000000</td>\n",
              "      <td>0.000000</td>\n",
              "      <td>35.750000</td>\n",
              "      <td>1.000000</td>\n",
              "      <td>1.000000</td>\n",
              "      <td>56.982300</td>\n",
              "      <td>61.000000</td>\n",
              "      <td>2.000000</td>\n",
              "    </tr>\n",
              "    <tr>\n",
              "      <th>max</th>\n",
              "      <td>3.000000</td>\n",
              "      <td>1.000000</td>\n",
              "      <td>80.000000</td>\n",
              "      <td>8.000000</td>\n",
              "      <td>9.000000</td>\n",
              "      <td>512.329200</td>\n",
              "      <td>184.000000</td>\n",
              "      <td>2.000000</td>\n",
              "    </tr>\n",
              "  </tbody>\n",
              "</table>\n",
              "</div>\n",
              "      <button class=\"colab-df-convert\" onclick=\"convertToInteractive('df-cd57fa83-9927-4217-aed3-37a21d9ec449')\"\n",
              "              title=\"Convert this dataframe to an interactive table.\"\n",
              "              style=\"display:none;\">\n",
              "        \n",
              "  <svg xmlns=\"http://www.w3.org/2000/svg\" height=\"24px\"viewBox=\"0 0 24 24\"\n",
              "       width=\"24px\">\n",
              "    <path d=\"M0 0h24v24H0V0z\" fill=\"none\"/>\n",
              "    <path d=\"M18.56 5.44l.94 2.06.94-2.06 2.06-.94-2.06-.94-.94-2.06-.94 2.06-2.06.94zm-11 1L8.5 8.5l.94-2.06 2.06-.94-2.06-.94L8.5 2.5l-.94 2.06-2.06.94zm10 10l.94 2.06.94-2.06 2.06-.94-2.06-.94-.94-2.06-.94 2.06-2.06.94z\"/><path d=\"M17.41 7.96l-1.37-1.37c-.4-.4-.92-.59-1.43-.59-.52 0-1.04.2-1.43.59L10.3 9.45l-7.72 7.72c-.78.78-.78 2.05 0 2.83L4 21.41c.39.39.9.59 1.41.59.51 0 1.02-.2 1.41-.59l7.78-7.78 2.81-2.81c.8-.78.8-2.07 0-2.86zM5.41 20L4 18.59l7.72-7.72 1.47 1.35L5.41 20z\"/>\n",
              "  </svg>\n",
              "      </button>\n",
              "      \n",
              "  <style>\n",
              "    .colab-df-container {\n",
              "      display:flex;\n",
              "      flex-wrap:wrap;\n",
              "      gap: 12px;\n",
              "    }\n",
              "\n",
              "    .colab-df-convert {\n",
              "      background-color: #E8F0FE;\n",
              "      border: none;\n",
              "      border-radius: 50%;\n",
              "      cursor: pointer;\n",
              "      display: none;\n",
              "      fill: #1967D2;\n",
              "      height: 32px;\n",
              "      padding: 0 0 0 0;\n",
              "      width: 32px;\n",
              "    }\n",
              "\n",
              "    .colab-df-convert:hover {\n",
              "      background-color: #E2EBFA;\n",
              "      box-shadow: 0px 1px 2px rgba(60, 64, 67, 0.3), 0px 1px 3px 1px rgba(60, 64, 67, 0.15);\n",
              "      fill: #174EA6;\n",
              "    }\n",
              "\n",
              "    [theme=dark] .colab-df-convert {\n",
              "      background-color: #3B4455;\n",
              "      fill: #D2E3FC;\n",
              "    }\n",
              "\n",
              "    [theme=dark] .colab-df-convert:hover {\n",
              "      background-color: #434B5C;\n",
              "      box-shadow: 0px 1px 3px 1px rgba(0, 0, 0, 0.15);\n",
              "      filter: drop-shadow(0px 1px 2px rgba(0, 0, 0, 0.3));\n",
              "      fill: #FFFFFF;\n",
              "    }\n",
              "  </style>\n",
              "\n",
              "      <script>\n",
              "        const buttonEl =\n",
              "          document.querySelector('#df-cd57fa83-9927-4217-aed3-37a21d9ec449 button.colab-df-convert');\n",
              "        buttonEl.style.display =\n",
              "          google.colab.kernel.accessAllowed ? 'block' : 'none';\n",
              "\n",
              "        async function convertToInteractive(key) {\n",
              "          const element = document.querySelector('#df-cd57fa83-9927-4217-aed3-37a21d9ec449');\n",
              "          const dataTable =\n",
              "            await google.colab.kernel.invokeFunction('convertToInteractive',\n",
              "                                                     [key], {});\n",
              "          if (!dataTable) return;\n",
              "\n",
              "          const docLinkHtml = 'Like what you see? Visit the ' +\n",
              "            '<a target=\"_blank\" href=https://colab.research.google.com/notebooks/data_table.ipynb>data table notebook</a>'\n",
              "            + ' to learn more about interactive tables.';\n",
              "          element.innerHTML = '';\n",
              "          dataTable['output_type'] = 'display_data';\n",
              "          await google.colab.output.renderOutput(dataTable, element);\n",
              "          const docLink = document.createElement('div');\n",
              "          docLink.innerHTML = docLinkHtml;\n",
              "          element.appendChild(docLink);\n",
              "        }\n",
              "      </script>\n",
              "    </div>\n",
              "  </div>\n",
              "  "
            ],
            "text/plain": [
              "           Pclass         Sex         Age  ...        Fare       Cabin    Embarked\n",
              "count  494.000000  494.000000  494.000000  ...  494.000000  494.000000  494.000000\n",
              "mean     2.010121    0.220648   29.097166  ...   48.811497   35.419028    1.344130\n",
              "std      0.874416    0.415104   13.878883  ...   68.594401   56.040377    0.879676\n",
              "min      1.000000    0.000000    0.000000  ...    0.000000    0.000000    0.000000\n",
              "25%      1.000000    0.000000   22.000000  ...   11.431275    0.000000    0.000000\n",
              "50%      2.000000    0.000000   30.000000  ...   26.000000    0.000000    2.000000\n",
              "75%      3.000000    0.000000   35.750000  ...   56.982300   61.000000    2.000000\n",
              "max      3.000000    1.000000   80.000000  ...  512.329200  184.000000    2.000000\n",
              "\n",
              "[8 rows x 8 columns]"
            ]
          },
          "metadata": {},
          "execution_count": 102
        }
      ]
    },
    {
      "cell_type": "markdown",
      "source": [
        "Aqui podemos hacer una interpretacion al obtener los datos anteriores.\n",
        "Vemos que en la columna `Sex` tenemos una media de 0.22 lo cual podria indicar que entre los supervivientes habia mayoria de mujeres.\n",
        "\n",
        "Por otro lado en la columna `Age` vemos que tenemos una media de 29 anos.\n",
        "\n",
        "Si analizamos la columna `Fare` la media que obtenemos nos estaria indicando que la mayoria de los supervivientes habia pagado un ticket de 48 usd"
      ],
      "metadata": {
        "id": "eKFaf1dJoh_z"
      }
    },
    {
      "cell_type": "markdown",
      "source": [
        "Ahora podriamos hacer el siguiente analisis: queremos el porcentaje de personas salvadas cuyo ticket fue menor a la media que obtuvimos y el porcentaje de las personas salvadas cuyo ticket fue mayor a la media que obtuvimos."
      ],
      "metadata": {
        "id": "jTXVUVPIpzyQ"
      }
    },
    {
      "cell_type": "code",
      "source": [
        "# numero total de pasajeros que pagaron un precio menor que la media\n",
        "tot_psg_fare_min = len(X_train[X_train[\"Fare\"] < 48.39])\n",
        "\n",
        "# numero total de pasajeros que pagaron un precio mayor que la media\n",
        "tot_psg_fare_max = len(X_train[X_train[\"Fare\"] > 48.39])\n",
        "\n",
        "# numero total de pasajeros de sexo femenino que pagaron un precio menor que la media \n",
        "tot_psg_fem_fare_min = len(X_train[(X_train[\"Fare\"] < 48.39) & (X_train[\"Sex\"] == 0)])\n",
        "\n",
        "# numero total de pasajeros de sexo femenino que pagaron un precio mayor que la media\n",
        "tot_psg_fem_fare_max = len(X_train[(X_train[\"Fare\"] > 48.39) & (X_train[\"Sex\"] == 0)])\n",
        "\n",
        "# numero total de pasajeros de sexo masculino que pagaron un precio menor que la media\n",
        "tot_psg_mas_fare_min = len(X_train[(X_train[\"Fare\"] < 48.39) & (X_train[\"Sex\"] == 1)])\n",
        "\n",
        "# numero total de pasajeros de sexo masculino que pagaron un precio mayor que la media\n",
        "tot_psg_mas_fare_max = len(X_train[(X_train[\"Fare\"] > 48.39) & (X_train[\"Sex\"] == 1)])"
      ],
      "metadata": {
        "id": "fSeCwvZrppMI"
      },
      "execution_count": null,
      "outputs": []
    },
    {
      "cell_type": "markdown",
      "source": [
        "Sabiendo que hubo 727 pasajeros que pagaron un ticket menor al precio de la media, podemos hacer el siguiente razonamiento:\n",
        "\n",
        "si vemos la cantidad de supervivientes que pagaron un precio menor a la media, y ese numero lo dividimos por 727, vamos a obtener la probabilidad de sobrevivir habiendo pagado un precio de ticket menor a la media."
      ],
      "metadata": {
        "id": "ehb3MfJXriZi"
      }
    },
    {
      "cell_type": "code",
      "source": [
        "# numero total de supervivientes de sexo femenino que pagaron un precio menor que la media \n",
        "tot_surv_fem_fare_min = len(df_survived[(df_survived[\"Fare\"] < 48.39) & (df_survived[\"Sex\"] == 0)])\n",
        "\n",
        "# numero total de supervivientes de sexo femenino que pagaron un precio mayor que la media\n",
        "tot_surv_fem_fare_max = len(df_survived[(df_survived[\"Fare\"] > 48.39) & (df_survived[\"Sex\"] == 0)])\n",
        "\n",
        "# numero total de supervivientes de sexo masculino que pagaron un precio menor que la media\n",
        "tot_surv_mas_fare_min = len(df_survived[(df_survived[\"Fare\"] < 48.39) & (df_survived[\"Sex\"] == 1)])\n",
        "\n",
        "# numero total de supervivientes de sexo masculino que pagaron un precio mayor que la media\n",
        "tot_surv_mas_fare_max = len(df_survived[(df_survived[\"Fare\"] > 48.39) & (df_survived[\"Sex\"] == 1)])"
      ],
      "metadata": {
        "id": "KCnuXBSxsjf-"
      },
      "execution_count": null,
      "outputs": []
    },
    {
      "cell_type": "code",
      "source": [
        "# probabilidad de sobrevivir habiando pagado un ticket con precio menor a la media\n",
        "prob_srv_fare_min = total_srv_fare_minior/tot_psg_fare_min\n",
        "\n",
        "# probabilidad de sobrevivir habiando pagado un ticket con precio mayor a la media\n",
        "prob_srv_fare_max = total_srv_fare_mayor/tot_psg_fare_max\n",
        "\n",
        "# probabilidad de sobrevivir siendo de sexo femenino y habiando pagado un ticket con precio menor a la media\n",
        "prob_srv_fem_fare_min = tot_surv_fem_fare_min/tot_psg_fem_fare_min\n",
        "\n",
        "# probabilidad de sobrevivir siendo de sexo femenino y habiando pagado un ticket con precio mayor a la media\n",
        "prob_srv_fem_fare_max = tot_surv_fem_fare_max/tot_psg_fem_fare_max\n",
        "\n",
        "# probabilidad de sobrevivir siendo de sexo masculino y habiando pagado un ticket con precio menor a la media\n",
        "prob_srv_mas_fare_min = tot_surv_mas_fare_min/tot_psg_mas_fare_min\n",
        "\n",
        "# probabilidad de sobrevivir siendo de sexo masculino y habiando pagado un ticket con precio mayor a la media\n",
        "prob_srv_mas_fare_max = tot_surv_mas_fare_max/tot_psg_mas_fare_max\n",
        "\n",
        "\n",
        "print(prob_srv_fare_min, prob_srv_fare_max,  prob_srv_fem_fare_min, prob_srv_fem_fare_max, prob_srv_mas_fare_min, prob_srv_mas_fare_max )"
      ],
      "metadata": {
        "colab": {
          "base_uri": "https://localhost:8080/"
        },
        "id": "fx4msUJ2yXix",
        "outputId": "8cceb8b8-08b3-4883-fb85-6f2f874465c5"
      },
      "execution_count": null,
      "outputs": [
        {
          "output_type": "stream",
          "name": "stdout",
          "text": [
            "0.3198494825964252 0.6285714285714286 0.7724550898203593 0.9621212121212122 0.11248285322359397 0.23893805309734514\n"
          ]
        }
      ]
    },
    {
      "cell_type": "code",
      "source": [
        "data = [prob_srv_fem_fare_min, prob_srv_fem_fare_max, prob_srv_mas_fare_min, prob_srv_mas_fare_max ]"
      ],
      "metadata": {
        "id": "DlG_fzHfMnta"
      },
      "execution_count": null,
      "outputs": []
    },
    {
      "cell_type": "code",
      "source": [
        "import matplotlib.pyplot as plt\n",
        "import seaborn as sns\n",
        "\n",
        "data_ = {\"Pasajeros de sexo fem cuyo ticket tuvo un valor menor que el precio medio\": data[0],\n",
        "         \"Pasajeros de sexo fem cuyo ticket tuvo un valor mayor que el precio medio\": data[1],\n",
        "         \"Pasajeros de sexo masc cuyo ticket tuvo un valor menor que el precio medio\": data[2],\n",
        "         \"Pasajeros de sexo masc cuyo ticket tuvo un valor mayor que el precio medio\": data[3]}\n",
        "\n",
        "names= list(data_.keys())\n",
        "values = list(data_.values())\n",
        "\n",
        "fig, ax = plt.subplots(figsize=(5, 7))\n",
        "\n",
        "x = np.arange(len(names))  # the label locations\n",
        "width = 0.35  # the width of the bars\n",
        "\n",
        "print(values[0])\n",
        "\n",
        "rect1 = ax.bar(2*width, values[0],width, label=names[0], color=\"#FA58B6\")\n",
        "rect2 = ax.bar(3*width, values[1],width, label=names[1], color=\"#7A0BC0\")\n",
        "rect3 = ax.bar(4*width, values[2],width, label=names[2], color=\"#11468F\")\n",
        "rect4 = ax.bar(5*width, values[3],width, label=names[3], color=\"#1A1A40\")\n",
        "\n",
        "ax.legend(bbox_to_anchor=(1, 1), loc='best')\n",
        "\n",
        "fig.tight_layout()\n",
        "plt.ylabel(\"Probabilidad de sobrevivir\")\n",
        "plt.grid()\n",
        "plt.show()"
      ],
      "metadata": {
        "colab": {
          "base_uri": "https://localhost:8080/",
          "height": 464
        },
        "id": "8ujGrHXcPIV6",
        "outputId": "40ea1672-2bf4-4537-ae48-bd3def204f49"
      },
      "execution_count": null,
      "outputs": [
        {
          "output_type": "stream",
          "name": "stdout",
          "text": [
            "0.7724550898203593\n"
          ]
        },
        {
          "output_type": "stream",
          "name": "stderr",
          "text": [
            "/usr/local/lib/python3.7/dist-packages/ipykernel_launcher.py:26: UserWarning: Tight layout not applied. The left and right margins cannot be made large enough to accommodate all axes decorations. \n"
          ]
        },
        {
          "output_type": "display_data",
          "data": {
            "image/png": "[encoded data removed]",
            "text/plain": [
              "<Figure size 360x504 with 1 Axes>"
            ]
          },
          "metadata": {
            "needs_background": "light"
          }
        }
      ]
    },
    {
      "cell_type": "code",
      "source": [
        "qty_fem = len(X_train[X_train[\"Sex\"] == 0])\n",
        "qty_mas = len(X_train[X_train[\"Sex\"]== 1])\n",
        "\n",
        "sex_fem_surv= len(X_train[(X_train[\"Survived\"]==1) & (X_train[\"Sex\"]== 0)])\n",
        "sex_mas_surv = len(X_train[(X_train[\"Survived\"]==1) & (X_train[\"Sex\"]== 1)])\n",
        "\n",
        "print(\"Sobrevivientes de sexo femenino\", sex_fem_surv)\n",
        "print(\"Sobrevivientes de sexo masculino\", sex_mas_surv)\n",
        "\n",
        "print(\"Cantidad pasajeros de sexo femenino\", qty_fem)\n",
        "print(\"Cantidad pasajeros de sexo masculino\", qty_mas)"
      ],
      "metadata": {
        "colab": {
          "base_uri": "https://localhost:8080/"
        },
        "id": "tPYvY3EIbyHZ",
        "outputId": "49539988-cdba-4557-c1da-38b008b7a3e8"
      },
      "execution_count": null,
      "outputs": [
        {
          "output_type": "stream",
          "name": "stdout",
          "text": [
            "Sobrevivientes de sexo femenino 385\n",
            "Sobrevivientes de sexo masculino 109\n",
            "Cantidad pasajeros de sexo femenino 466\n",
            "Cantidad pasajeros de sexo masculino 842\n"
          ]
        }
      ]
    },
    {
      "cell_type": "markdown",
      "source": [
        "Podemos concluir que la gran variacion de probabilidades depiendiendo el sexo podria ser debido a que habia casi el doble de pasajeros masculinos que femeninos. Por lo que los pasajeros de sexo masculino teninan menos probabilidad de sobrevivir."
      ],
      "metadata": {
        "id": "nuN1LLKKeDQg"
      }
    },
    {
      "cell_type": "markdown",
      "metadata": {
        "id": "Tey3nXnWkLRc"
      },
      "source": [
        "## Aplicando ML a los datos"
      ]
    },
    {
      "cell_type": "code",
      "execution_count": 3,
      "metadata": {
        "id": "VYmTlEGMmyzp"
      },
      "outputs": [],
      "source": [
        "df_gndr_sub = pd.read_csv(path1).sort_values(by=[\"PassengerId\"])\n",
        "df_test = pd.read_csv(path2).sort_values(by=[\"PassengerId\"])\n",
        "df_train = pd.read_csv(path3).sort_values(by=[\"PassengerId\"])"
      ]
    },
    {
      "cell_type": "markdown",
      "metadata": {
        "id": "yJrd09dTTwHo"
      },
      "source": [
        "Lo primero a hacer sera limpiar los datos, tratando los missing values y las variables categoricas."
      ]
    },
    {
      "cell_type": "code",
      "execution_count": 4,
      "metadata": {
        "colab": {
          "base_uri": "https://localhost:8080/"
        },
        "id": "MRbClQ6gbKJm",
        "outputId": "938b897c-c487-409c-e403-8f7391b8fd3e"
      },
      "outputs": [
        {
          "output_type": "stream",
          "name": "stdout",
          "text": [
            "Las variables categoricas son: ['Name', 'Sex', 'Ticket', 'Cabin', 'Embarked']\n"
          ]
        }
      ],
      "source": [
        "# obtener la lista de variables categoricas\n",
        "s = (df_train.dtypes == 'object')\n",
        "object_cols = list(s[s].index)\n",
        "\n",
        "print(f\"Las variables categoricas son: {object_cols}\")\n"
      ]
    },
    {
      "cell_type": "markdown",
      "metadata": {
        "id": "vwX9TqL-k_uN"
      },
      "source": [
        "Tratamos las variables categoricas:"
      ]
    },
    {
      "cell_type": "code",
      "execution_count": 6,
      "metadata": {
        "id": "_RpRBEHclReK"
      },
      "outputs": [],
      "source": [
        "from sklearn.preprocessing import OrdinalEncoder\n",
        "ordinal_encoder = OrdinalEncoder()\n",
        "\n",
        "X_train = df_train.copy()\n",
        "X_valid = df_test.copy()\n",
        "\n",
        "# Aplicamos el metodo Ordinal encoder ca la columna Sex\n",
        "\n",
        "X_train[[\"Sex\", \"Cabin\", \"Embarked\"]] = ordinal_encoder.fit_transform(X_train[[\"Sex\", \"Cabin\", \"Embarked\"]])\n",
        "X_valid[[\"Sex\", \"Cabin\", \"Embarked\"]] = ordinal_encoder.fit_transform(X_valid[[\"Sex\", \"Cabin\", \"Embarked\"]])"
      ]
    },
    {
      "cell_type": "markdown",
      "metadata": {
        "id": "ffOUOg-TmnTu"
      },
      "source": [
        "Podemos observar que si en la columna \"Sex\" tenemos un 1 => es masculino por lo tanto si tenemos un 0 => es femenino."
      ]
    },
    {
      "cell_type": "markdown",
      "source": [
        "Veamos las filas nulas:"
      ],
      "metadata": {
        "id": "FhEnDd3GGlKQ"
      }
    },
    {
      "cell_type": "code",
      "execution_count": 7,
      "metadata": {
        "colab": {
          "base_uri": "https://localhost:8080/"
        },
        "id": "DA8kS2m6piC2",
        "outputId": "42b4a78a-01b2-4a60-ceb8-ffd1b142a5b7"
      },
      "outputs": [
        {
          "output_type": "stream",
          "name": "stdout",
          "text": [
            "Las columnas con valores nulos son: ['Age', 'Cabin', 'Embarked']\n",
            "Las columnas con valores nulos son: ['Age', 'Fare', 'Cabin']\n"
          ]
        },
        {
          "output_type": "execute_result",
          "data": {
            "text/plain": [
              "PassengerId      0\n",
              "Survived         0\n",
              "Pclass           0\n",
              "Name             0\n",
              "Sex              0\n",
              "Age            177\n",
              "SibSp            0\n",
              "Parch            0\n",
              "Ticket           0\n",
              "Fare             0\n",
              "Cabin          687\n",
              "Embarked         2\n",
              "dtype: int64"
            ]
          },
          "metadata": {},
          "execution_count": 7
        }
      ],
      "source": [
        "# Asi podemos obtener las columnas donde tenemos filas nulas.\n",
        "\n",
        "cols_with_missing_df_train = [col for col in X_train.columns if X_train[col].isnull().any()]\n",
        "cols_with_missing_df_valid = [col for col in X_valid.columns if X_valid[col].isnull().any()]\n",
        "\n",
        "print(f\"Las columnas con valores nulos son: {cols_with_missing_df_train}\")\n",
        "print(f\"Las columnas con valores nulos son: {cols_with_missing_df_valid}\")\n",
        "\n",
        "X_train.isnull().sum()\n"
      ]
    },
    {
      "cell_type": "code",
      "source": [
        "X_valid.isnull().sum()"
      ],
      "metadata": {
        "colab": {
          "base_uri": "https://localhost:8080/"
        },
        "id": "WQPfsN9h4CAS",
        "outputId": "4454d4d0-ca2f-4d0b-a757-ac0248125c50"
      },
      "execution_count": 8,
      "outputs": [
        {
          "output_type": "execute_result",
          "data": {
            "text/plain": [
              "PassengerId      0\n",
              "Pclass           0\n",
              "Name             0\n",
              "Sex              0\n",
              "Age             86\n",
              "SibSp            0\n",
              "Parch            0\n",
              "Ticket           0\n",
              "Fare             1\n",
              "Cabin          327\n",
              "Embarked         0\n",
              "dtype: int64"
            ]
          },
          "metadata": {},
          "execution_count": 8
        }
      ]
    },
    {
      "cell_type": "markdown",
      "source": [
        "Ahora tratamos los valores nulos."
      ],
      "metadata": {
        "id": "pCNtetwUyuOL"
      }
    },
    {
      "cell_type": "code",
      "execution_count": 9,
      "metadata": {
        "id": "5y_8t6Q2jJoj",
        "colab": {
          "base_uri": "https://localhost:8080/"
        },
        "outputId": "4413939a-c50a-45c6-c360-5872b8ff9a0d"
      },
      "outputs": [
        {
          "output_type": "stream",
          "name": "stderr",
          "text": [
            "/usr/local/lib/python3.7/dist-packages/ipykernel_launcher.py:16: SettingWithCopyWarning: \n",
            "A value is trying to be set on a copy of a slice from a DataFrame\n",
            "\n",
            "See the caveats in the documentation: https://pandas.pydata.org/pandas-docs/stable/user_guide/indexing.html#returning-a-view-versus-a-copy\n",
            "  app.launch_new_instance()\n"
          ]
        }
      ],
      "source": [
        "## Ahora trataremos los missing values con el approach Imputation\n",
        "from sklearn.impute import SimpleImputer\n",
        "\n",
        "# Hacemos una copia para no reemplazar valores.\n",
        "X_train_ = X_train[[\"Age\", \"Fare\", \"Sex\", \"Cabin\", \"Embarked\"]].copy()\n",
        "X_valid_ = X_valid[[\"Age\", \"Fare\", \"Sex\", \"PassengerId\", \"Cabin\", \"Embarked\"]].copy()\n",
        "\n",
        "# Reemplazamos los valores nulos que existen en Cabin por un 0.\n",
        "for row in range(len(X_train_[\"Cabin\"])):\n",
        "  if pd.isna(X_train_[\"Cabin\"][row]):\n",
        "    X_train_[\"Cabin\"][row] = 0\n",
        "\n",
        "# Hacemos lo mismo para la data de validacion\n",
        "for row in range(len(X_valid_[\"Cabin\"])):\n",
        "  if pd.isna(X_valid_[\"Cabin\"][row]):\n",
        "    X_valid_[\"Cabin\"][row] = 0\n",
        "\n",
        "# Reemplazamos los valores nulos que existen en Embarked por un 0.\n",
        "for row in range(len(X_train_[\"Embarked\"])):\n",
        "  if pd.isna(X_train_[\"Embarked\"][row]):\n",
        "    X_train_[\"Embarked\"][row] = 0\n",
        "    \n",
        "my_imputer = SimpleImputer()\n",
        "\n",
        "imputed_X_train = pd.DataFrame(my_imputer.fit_transform(X_train_))\n",
        "imputed_X_valid = pd.DataFrame(my_imputer.fit_transform(X_valid_))\n",
        "\n",
        "# Imputation removed column names; put them back\n",
        "imputed_X_train.columns = X_train_.columns\n",
        "imputed_X_valid.columns = X_valid_.columns"
      ]
    },
    {
      "cell_type": "markdown",
      "metadata": {
        "id": "8631YDymt0uw"
      },
      "source": [
        "Podemos observar que los pasajeros los cuales no tenian edad se ha asignado un numero deacuerdo a las edades del resto de los pasajeros. \n",
        "Ahora deberiamos redondear deste valor ya que no es posible tener 30.27 anos"
      ]
    },
    {
      "cell_type": "code",
      "execution_count": null,
      "metadata": {
        "colab": {
          "base_uri": "https://localhost:8080/",
          "height": 81
        },
        "id": "nPKZu7fRshyW",
        "outputId": "91b685cb-dde8-41d2-ba82-4d37edfb89c9"
      },
      "outputs": [
        {
          "output_type": "execute_result",
          "data": {
            "text/html": [
              "\n",
              "  <div id=\"df-0f80aa95-1496-4b94-ad46-b65f853557ad\">\n",
              "    <div class=\"colab-df-container\">\n",
              "      <div>\n",
              "<style scoped>\n",
              "    .dataframe tbody tr th:only-of-type {\n",
              "        vertical-align: middle;\n",
              "    }\n",
              "\n",
              "    .dataframe tbody tr th {\n",
              "        vertical-align: top;\n",
              "    }\n",
              "\n",
              "    .dataframe thead th {\n",
              "        text-align: right;\n",
              "    }\n",
              "</style>\n",
              "<table border=\"1\" class=\"dataframe\">\n",
              "  <thead>\n",
              "    <tr style=\"text-align: right;\">\n",
              "      <th></th>\n",
              "      <th>Age</th>\n",
              "      <th>Fare</th>\n",
              "      <th>Sex</th>\n",
              "      <th>PassengerId</th>\n",
              "      <th>Cabin</th>\n",
              "      <th>Embarked</th>\n",
              "    </tr>\n",
              "  </thead>\n",
              "  <tbody>\n",
              "    <tr>\n",
              "      <th>417</th>\n",
              "      <td>30.27259</td>\n",
              "      <td>22.3583</td>\n",
              "      <td>1.0</td>\n",
              "      <td>1309.0</td>\n",
              "      <td>0.0</td>\n",
              "      <td>0.0</td>\n",
              "    </tr>\n",
              "  </tbody>\n",
              "</table>\n",
              "</div>\n",
              "      <button class=\"colab-df-convert\" onclick=\"convertToInteractive('df-0f80aa95-1496-4b94-ad46-b65f853557ad')\"\n",
              "              title=\"Convert this dataframe to an interactive table.\"\n",
              "              style=\"display:none;\">\n",
              "        \n",
              "  <svg xmlns=\"http://www.w3.org/2000/svg\" height=\"24px\"viewBox=\"0 0 24 24\"\n",
              "       width=\"24px\">\n",
              "    <path d=\"M0 0h24v24H0V0z\" fill=\"none\"/>\n",
              "    <path d=\"M18.56 5.44l.94 2.06.94-2.06 2.06-.94-2.06-.94-.94-2.06-.94 2.06-2.06.94zm-11 1L8.5 8.5l.94-2.06 2.06-.94-2.06-.94L8.5 2.5l-.94 2.06-2.06.94zm10 10l.94 2.06.94-2.06 2.06-.94-2.06-.94-.94-2.06-.94 2.06-2.06.94z\"/><path d=\"M17.41 7.96l-1.37-1.37c-.4-.4-.92-.59-1.43-.59-.52 0-1.04.2-1.43.59L10.3 9.45l-7.72 7.72c-.78.78-.78 2.05 0 2.83L4 21.41c.39.39.9.59 1.41.59.51 0 1.02-.2 1.41-.59l7.78-7.78 2.81-2.81c.8-.78.8-2.07 0-2.86zM5.41 20L4 18.59l7.72-7.72 1.47 1.35L5.41 20z\"/>\n",
              "  </svg>\n",
              "      </button>\n",
              "      \n",
              "  <style>\n",
              "    .colab-df-container {\n",
              "      display:flex;\n",
              "      flex-wrap:wrap;\n",
              "      gap: 12px;\n",
              "    }\n",
              "\n",
              "    .colab-df-convert {\n",
              "      background-color: #E8F0FE;\n",
              "      border: none;\n",
              "      border-radius: 50%;\n",
              "      cursor: pointer;\n",
              "      display: none;\n",
              "      fill: #1967D2;\n",
              "      height: 32px;\n",
              "      padding: 0 0 0 0;\n",
              "      width: 32px;\n",
              "    }\n",
              "\n",
              "    .colab-df-convert:hover {\n",
              "      background-color: #E2EBFA;\n",
              "      box-shadow: 0px 1px 2px rgba(60, 64, 67, 0.3), 0px 1px 3px 1px rgba(60, 64, 67, 0.15);\n",
              "      fill: #174EA6;\n",
              "    }\n",
              "\n",
              "    [theme=dark] .colab-df-convert {\n",
              "      background-color: #3B4455;\n",
              "      fill: #D2E3FC;\n",
              "    }\n",
              "\n",
              "    [theme=dark] .colab-df-convert:hover {\n",
              "      background-color: #434B5C;\n",
              "      box-shadow: 0px 1px 3px 1px rgba(0, 0, 0, 0.15);\n",
              "      filter: drop-shadow(0px 1px 2px rgba(0, 0, 0, 0.3));\n",
              "      fill: #FFFFFF;\n",
              "    }\n",
              "  </style>\n",
              "\n",
              "      <script>\n",
              "        const buttonEl =\n",
              "          document.querySelector('#df-0f80aa95-1496-4b94-ad46-b65f853557ad button.colab-df-convert');\n",
              "        buttonEl.style.display =\n",
              "          google.colab.kernel.accessAllowed ? 'block' : 'none';\n",
              "\n",
              "        async function convertToInteractive(key) {\n",
              "          const element = document.querySelector('#df-0f80aa95-1496-4b94-ad46-b65f853557ad');\n",
              "          const dataTable =\n",
              "            await google.colab.kernel.invokeFunction('convertToInteractive',\n",
              "                                                     [key], {});\n",
              "          if (!dataTable) return;\n",
              "\n",
              "          const docLinkHtml = 'Like what you see? Visit the ' +\n",
              "            '<a target=\"_blank\" href=https://colab.research.google.com/notebooks/data_table.ipynb>data table notebook</a>'\n",
              "            + ' to learn more about interactive tables.';\n",
              "          element.innerHTML = '';\n",
              "          dataTable['output_type'] = 'display_data';\n",
              "          await google.colab.output.renderOutput(dataTable, element);\n",
              "          const docLink = document.createElement('div');\n",
              "          docLink.innerHTML = docLinkHtml;\n",
              "          element.appendChild(docLink);\n",
              "        }\n",
              "      </script>\n",
              "    </div>\n",
              "  </div>\n",
              "  "
            ],
            "text/plain": [
              "          Age     Fare  Sex  PassengerId  Cabin  Embarked\n",
              "417  30.27259  22.3583  1.0       1309.0    0.0       0.0"
            ]
          },
          "metadata": {},
          "execution_count": 53
        }
      ],
      "source": [
        "imputed_X_valid[imputed_X_valid[\"PassengerId\"] == 1309]\t"
      ]
    },
    {
      "cell_type": "code",
      "execution_count": 12,
      "metadata": {
        "id": "0CviKvkwuIVV"
      },
      "outputs": [],
      "source": [
        "imputed_X_valid[\"Age\"] = np.round(imputed_X_valid[\"Age\"])"
      ]
    },
    {
      "cell_type": "markdown",
      "source": [
        "Declaramos el modelo con el que vamos a trabajar, lo entrenaremos para luego realizar una prediccion con la data de validacion."
      ],
      "metadata": {
        "id": "zGHzi0PP2ehu"
      }
    },
    {
      "cell_type": "code",
      "execution_count": 14,
      "metadata": {
        "id": "_jPRayGTFJOd"
      },
      "outputs": [],
      "source": [
        "from sklearn.ensemble import RandomForestClassifier\n",
        "\n",
        "# Define model\n",
        "titanicDeath = RandomForestClassifier(random_state=1)\n",
        "\n",
        "y = df_train.Survived\n",
        "X = imputed_X_train[[\"Age\", \"Sex\", \"Fare\", \"Cabin\", \"Embarked\"]]\n",
        "\n",
        "# Fit model\n",
        "titanicDeath.fit(X, y)\n",
        "\n",
        "# get predicted deaths on validation data\n",
        "val_predictions = titanicDeath.predict(imputed_X_valid[[\"Age\", \"Sex\", \"Fare\", \"Cabin\", \"Embarked\"]])\n",
        "\n"
      ]
    },
    {
      "cell_type": "markdown",
      "source": [
        "Ahora vamos a ver que tan bueno es nuestro modelo."
      ],
      "metadata": {
        "id": "J8bhoAyMzh4L"
      }
    },
    {
      "cell_type": "code",
      "execution_count": 15,
      "metadata": {
        "id": "ojQik3JnIl1x"
      },
      "outputs": [],
      "source": [
        "# al no tener la columna de survived en la data de validacion, sera necesario hacer un join con el dataframe que contiene esta informacion\n",
        "# hacemos esto para luego poder comparar con el valor que predijo el modelo\n",
        "\n",
        "join = df_gndr_sub.merge(imputed_X_valid, how=\"left\", on=\"PassengerId\")"
      ]
    },
    {
      "cell_type": "code",
      "execution_count": 16,
      "metadata": {
        "colab": {
          "base_uri": "https://localhost:8080/"
        },
        "id": "lixSzJ5uHWyX",
        "outputId": "02b0a589-f7aa-4351-bce5-b4d06e15a48e"
      },
      "outputs": [
        {
          "output_type": "stream",
          "name": "stdout",
          "text": [
            "     PassengerId  Survived   Age      Fare  Sex  Cabin  Embarked\n",
            "0            892         0  34.0    7.8292  1.0    0.0       1.0\n",
            "1            893         1  47.0    7.0000  0.0    0.0       2.0\n",
            "2            894         0  62.0    9.6875  1.0    0.0       1.0\n",
            "3            895         0  27.0    8.6625  1.0    0.0       2.0\n",
            "4            896         1  22.0   12.2875  0.0    0.0       2.0\n",
            "..           ...       ...   ...       ...  ...    ...       ...\n",
            "413         1305         0  30.0    8.0500  1.0    0.0       2.0\n",
            "414         1306         1  39.0  108.9000  0.0   22.0       0.0\n",
            "415         1307         0  38.0    7.2500  1.0    0.0       2.0\n",
            "416         1308         0  30.0    8.0500  1.0    0.0       2.0\n",
            "417         1309         0  30.0   22.3583  1.0    0.0       0.0\n",
            "\n",
            "[418 rows x 7 columns]\n",
            "True\n"
          ]
        }
      ],
      "source": [
        "# hacemos esto para verificar que el orden en el cual\n",
        "print(join)\n",
        "print(np.array_equal(np.array(imputed_X_valid[\"PassengerId\"]), np.array(join[\"PassengerId\"])))"
      ]
    },
    {
      "cell_type": "markdown",
      "source": [
        "Ahora para ver que tan bueno es el modelo lo que haremos sera lo sig: Vamos a agarrar nuestra data de validacion que previamente hemos anadido la variable survived, y ahora vamos a crear una columna que contega el valor de nuestras predicciones.\n",
        "\n",
        "Luego restaremos ambas columnas y el resultado sera la cantidad de errores."
      ],
      "metadata": {
        "id": "tZHTptNt0w7O"
      }
    },
    {
      "cell_type": "code",
      "execution_count": 17,
      "metadata": {
        "colab": {
          "base_uri": "https://localhost:8080/",
          "height": 424
        },
        "id": "YaloSnTKIDKY",
        "outputId": "c7bf6800-e02c-47bd-89f8-73289da5e875"
      },
      "outputs": [
        {
          "output_type": "execute_result",
          "data": {
            "text/html": [
              "\n",
              "  <div id=\"df-c6c35c63-33a3-4ea3-93a4-a93b3b9c5ebc\">\n",
              "    <div class=\"colab-df-container\">\n",
              "      <div>\n",
              "<style scoped>\n",
              "    .dataframe tbody tr th:only-of-type {\n",
              "        vertical-align: middle;\n",
              "    }\n",
              "\n",
              "    .dataframe tbody tr th {\n",
              "        vertical-align: top;\n",
              "    }\n",
              "\n",
              "    .dataframe thead th {\n",
              "        text-align: right;\n",
              "    }\n",
              "</style>\n",
              "<table border=\"1\" class=\"dataframe\">\n",
              "  <thead>\n",
              "    <tr style=\"text-align: right;\">\n",
              "      <th></th>\n",
              "      <th>PassengerId</th>\n",
              "      <th>Survived</th>\n",
              "      <th>Age</th>\n",
              "      <th>Fare</th>\n",
              "      <th>Sex</th>\n",
              "      <th>Cabin</th>\n",
              "      <th>Embarked</th>\n",
              "      <th>Survived_p</th>\n",
              "    </tr>\n",
              "  </thead>\n",
              "  <tbody>\n",
              "    <tr>\n",
              "      <th>0</th>\n",
              "      <td>892</td>\n",
              "      <td>0</td>\n",
              "      <td>34.0</td>\n",
              "      <td>7.8292</td>\n",
              "      <td>1.0</td>\n",
              "      <td>0.0</td>\n",
              "      <td>1.0</td>\n",
              "      <td>0</td>\n",
              "    </tr>\n",
              "    <tr>\n",
              "      <th>1</th>\n",
              "      <td>893</td>\n",
              "      <td>1</td>\n",
              "      <td>47.0</td>\n",
              "      <td>7.0000</td>\n",
              "      <td>0.0</td>\n",
              "      <td>0.0</td>\n",
              "      <td>2.0</td>\n",
              "      <td>0</td>\n",
              "    </tr>\n",
              "    <tr>\n",
              "      <th>2</th>\n",
              "      <td>894</td>\n",
              "      <td>0</td>\n",
              "      <td>62.0</td>\n",
              "      <td>9.6875</td>\n",
              "      <td>1.0</td>\n",
              "      <td>0.0</td>\n",
              "      <td>1.0</td>\n",
              "      <td>0</td>\n",
              "    </tr>\n",
              "    <tr>\n",
              "      <th>3</th>\n",
              "      <td>895</td>\n",
              "      <td>0</td>\n",
              "      <td>27.0</td>\n",
              "      <td>8.6625</td>\n",
              "      <td>1.0</td>\n",
              "      <td>0.0</td>\n",
              "      <td>2.0</td>\n",
              "      <td>1</td>\n",
              "    </tr>\n",
              "    <tr>\n",
              "      <th>4</th>\n",
              "      <td>896</td>\n",
              "      <td>1</td>\n",
              "      <td>22.0</td>\n",
              "      <td>12.2875</td>\n",
              "      <td>0.0</td>\n",
              "      <td>0.0</td>\n",
              "      <td>2.0</td>\n",
              "      <td>0</td>\n",
              "    </tr>\n",
              "    <tr>\n",
              "      <th>...</th>\n",
              "      <td>...</td>\n",
              "      <td>...</td>\n",
              "      <td>...</td>\n",
              "      <td>...</td>\n",
              "      <td>...</td>\n",
              "      <td>...</td>\n",
              "      <td>...</td>\n",
              "      <td>...</td>\n",
              "    </tr>\n",
              "    <tr>\n",
              "      <th>413</th>\n",
              "      <td>1305</td>\n",
              "      <td>0</td>\n",
              "      <td>30.0</td>\n",
              "      <td>8.0500</td>\n",
              "      <td>1.0</td>\n",
              "      <td>0.0</td>\n",
              "      <td>2.0</td>\n",
              "      <td>0</td>\n",
              "    </tr>\n",
              "    <tr>\n",
              "      <th>414</th>\n",
              "      <td>1306</td>\n",
              "      <td>1</td>\n",
              "      <td>39.0</td>\n",
              "      <td>108.9000</td>\n",
              "      <td>0.0</td>\n",
              "      <td>22.0</td>\n",
              "      <td>0.0</td>\n",
              "      <td>1</td>\n",
              "    </tr>\n",
              "    <tr>\n",
              "      <th>415</th>\n",
              "      <td>1307</td>\n",
              "      <td>0</td>\n",
              "      <td>38.0</td>\n",
              "      <td>7.2500</td>\n",
              "      <td>1.0</td>\n",
              "      <td>0.0</td>\n",
              "      <td>2.0</td>\n",
              "      <td>0</td>\n",
              "    </tr>\n",
              "    <tr>\n",
              "      <th>416</th>\n",
              "      <td>1308</td>\n",
              "      <td>0</td>\n",
              "      <td>30.0</td>\n",
              "      <td>8.0500</td>\n",
              "      <td>1.0</td>\n",
              "      <td>0.0</td>\n",
              "      <td>2.0</td>\n",
              "      <td>0</td>\n",
              "    </tr>\n",
              "    <tr>\n",
              "      <th>417</th>\n",
              "      <td>1309</td>\n",
              "      <td>0</td>\n",
              "      <td>30.0</td>\n",
              "      <td>22.3583</td>\n",
              "      <td>1.0</td>\n",
              "      <td>0.0</td>\n",
              "      <td>0.0</td>\n",
              "      <td>0</td>\n",
              "    </tr>\n",
              "  </tbody>\n",
              "</table>\n",
              "<p>418 rows × 8 columns</p>\n",
              "</div>\n",
              "      <button class=\"colab-df-convert\" onclick=\"convertToInteractive('df-c6c35c63-33a3-4ea3-93a4-a93b3b9c5ebc')\"\n",
              "              title=\"Convert this dataframe to an interactive table.\"\n",
              "              style=\"display:none;\">\n",
              "        \n",
              "  <svg xmlns=\"http://www.w3.org/2000/svg\" height=\"24px\"viewBox=\"0 0 24 24\"\n",
              "       width=\"24px\">\n",
              "    <path d=\"M0 0h24v24H0V0z\" fill=\"none\"/>\n",
              "    <path d=\"M18.56 5.44l.94 2.06.94-2.06 2.06-.94-2.06-.94-.94-2.06-.94 2.06-2.06.94zm-11 1L8.5 8.5l.94-2.06 2.06-.94-2.06-.94L8.5 2.5l-.94 2.06-2.06.94zm10 10l.94 2.06.94-2.06 2.06-.94-2.06-.94-.94-2.06-.94 2.06-2.06.94z\"/><path d=\"M17.41 7.96l-1.37-1.37c-.4-.4-.92-.59-1.43-.59-.52 0-1.04.2-1.43.59L10.3 9.45l-7.72 7.72c-.78.78-.78 2.05 0 2.83L4 21.41c.39.39.9.59 1.41.59.51 0 1.02-.2 1.41-.59l7.78-7.78 2.81-2.81c.8-.78.8-2.07 0-2.86zM5.41 20L4 18.59l7.72-7.72 1.47 1.35L5.41 20z\"/>\n",
              "  </svg>\n",
              "      </button>\n",
              "      \n",
              "  <style>\n",
              "    .colab-df-container {\n",
              "      display:flex;\n",
              "      flex-wrap:wrap;\n",
              "      gap: 12px;\n",
              "    }\n",
              "\n",
              "    .colab-df-convert {\n",
              "      background-color: #E8F0FE;\n",
              "      border: none;\n",
              "      border-radius: 50%;\n",
              "      cursor: pointer;\n",
              "      display: none;\n",
              "      fill: #1967D2;\n",
              "      height: 32px;\n",
              "      padding: 0 0 0 0;\n",
              "      width: 32px;\n",
              "    }\n",
              "\n",
              "    .colab-df-convert:hover {\n",
              "      background-color: #E2EBFA;\n",
              "      box-shadow: 0px 1px 2px rgba(60, 64, 67, 0.3), 0px 1px 3px 1px rgba(60, 64, 67, 0.15);\n",
              "      fill: #174EA6;\n",
              "    }\n",
              "\n",
              "    [theme=dark] .colab-df-convert {\n",
              "      background-color: #3B4455;\n",
              "      fill: #D2E3FC;\n",
              "    }\n",
              "\n",
              "    [theme=dark] .colab-df-convert:hover {\n",
              "      background-color: #434B5C;\n",
              "      box-shadow: 0px 1px 3px 1px rgba(0, 0, 0, 0.15);\n",
              "      filter: drop-shadow(0px 1px 2px rgba(0, 0, 0, 0.3));\n",
              "      fill: #FFFFFF;\n",
              "    }\n",
              "  </style>\n",
              "\n",
              "      <script>\n",
              "        const buttonEl =\n",
              "          document.querySelector('#df-c6c35c63-33a3-4ea3-93a4-a93b3b9c5ebc button.colab-df-convert');\n",
              "        buttonEl.style.display =\n",
              "          google.colab.kernel.accessAllowed ? 'block' : 'none';\n",
              "\n",
              "        async function convertToInteractive(key) {\n",
              "          const element = document.querySelector('#df-c6c35c63-33a3-4ea3-93a4-a93b3b9c5ebc');\n",
              "          const dataTable =\n",
              "            await google.colab.kernel.invokeFunction('convertToInteractive',\n",
              "                                                     [key], {});\n",
              "          if (!dataTable) return;\n",
              "\n",
              "          const docLinkHtml = 'Like what you see? Visit the ' +\n",
              "            '<a target=\"_blank\" href=https://colab.research.google.com/notebooks/data_table.ipynb>data table notebook</a>'\n",
              "            + ' to learn more about interactive tables.';\n",
              "          element.innerHTML = '';\n",
              "          dataTable['output_type'] = 'display_data';\n",
              "          await google.colab.output.renderOutput(dataTable, element);\n",
              "          const docLink = document.createElement('div');\n",
              "          docLink.innerHTML = docLinkHtml;\n",
              "          element.appendChild(docLink);\n",
              "        }\n",
              "      </script>\n",
              "    </div>\n",
              "  </div>\n",
              "  "
            ],
            "text/plain": [
              "     PassengerId  Survived   Age      Fare  Sex  Cabin  Embarked  Survived_p\n",
              "0            892         0  34.0    7.8292  1.0    0.0       1.0           0\n",
              "1            893         1  47.0    7.0000  0.0    0.0       2.0           0\n",
              "2            894         0  62.0    9.6875  1.0    0.0       1.0           0\n",
              "3            895         0  27.0    8.6625  1.0    0.0       2.0           1\n",
              "4            896         1  22.0   12.2875  0.0    0.0       2.0           0\n",
              "..           ...       ...   ...       ...  ...    ...       ...         ...\n",
              "413         1305         0  30.0    8.0500  1.0    0.0       2.0           0\n",
              "414         1306         1  39.0  108.9000  0.0   22.0       0.0           1\n",
              "415         1307         0  38.0    7.2500  1.0    0.0       2.0           0\n",
              "416         1308         0  30.0    8.0500  1.0    0.0       2.0           0\n",
              "417         1309         0  30.0   22.3583  1.0    0.0       0.0           0\n",
              "\n",
              "[418 rows x 8 columns]"
            ]
          },
          "metadata": {},
          "execution_count": 17
        }
      ],
      "source": [
        "join[\"Survived_p\"] = val_predictions\n",
        "join"
      ]
    },
    {
      "cell_type": "code",
      "execution_count": 19,
      "metadata": {
        "colab": {
          "base_uri": "https://localhost:8080/"
        },
        "id": "Dr3CwHMndH3f",
        "outputId": "26099f00-549e-4e80-cd17-89f95dfc161e"
      },
      "outputs": [
        {
          "output_type": "stream",
          "name": "stdout",
          "text": [
            "Tengo un total de: 68 errores\n"
          ]
        }
      ],
      "source": [
        "# veamos cuantos errores tuvimos\n",
        "survived = join[\"Survived\"]\n",
        "survived_pred = join[\"Survived_p\"]\n",
        "res = survived - survived_pred\n",
        "\n",
        "# ahora contamos los valores != 0 que tenga el resultado y estos seran los errores que tuvimos\n",
        "print(f\"Tengo un total de: {np.count_nonzero(res)} errores\")"
      ]
    },
    {
      "cell_type": "markdown",
      "metadata": {
        "id": "mBniWJPAfzve"
      },
      "source": [
        "Por lo que tenemos un miss-rate de 68/418 = 16.2% aprox ie que contamos con acierto del 83.8"
      ]
    }
  ],
  "metadata": {
    "colab": {
      "collapsed_sections": [
        "-R0pRrbDkKBk"
      ],
      "name": "challengeK_titanic.ipynb",
      "provenance": []
    },
    "kernelspec": {
      "display_name": "Python 3",
      "name": "python3"
    },
    "language_info": {
      "name": "python"
    }
  },
  "nbformat": 4,
  "nbformat_minor": 0
}