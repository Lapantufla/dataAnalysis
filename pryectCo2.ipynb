{
  "nbformat": 4,
  "nbformat_minor": 0,
  "metadata": {
    "colab": {
      "name": "pryectCo2.ipynb",
      "provenance": [],
      "collapsed_sections": []
    },
    "kernelspec": {
      "name": "python3",
      "display_name": "Python 3"
    },
    "language_info": {
      "name": "python"
    }
  },
  "cells": [
    {
      "cell_type": "markdown",
      "source": [
        "# Analisis emisiones co2 Argentina\n",
        "\n",
        "Vamos a utilizar los dataframes provistos por https://datos.bancomundial.org/.\n",
        "\n",
        "Debido a falta de informacion, el periodo que se utilizara para el analisis sera de 1990-2018.\n",
        "\n",
        "<h3>Idea del proyecto</h3>\n",
        "\n",
        "* Extraer la informacion.\n",
        "* Limpiar informacion. \n",
        "* Juntar los diferentes dataframes en uno en comun.\n",
        "* Filtraremos y estudiaremos el caso particular de Argentina. \n",
        "* Seleccion de variable a predecir.\n",
        "* Seleccion de features.\n",
        "* Plantear el modelo de validacion.\n",
        "* Declaracion de modelo de ML.\n",
        "* Entrenar el modelo.\n",
        "* Analizar resultados.\n",
        "\n"
      ],
      "metadata": {
        "id": "cnDbWnsKupWh"
      }
    },
    {
      "cell_type": "code",
      "execution_count": 77,
      "metadata": {
        "colab": {
          "base_uri": "https://localhost:8080/"
        },
        "id": "qT_ttAcK4gi8",
        "outputId": "20844d93-7e8d-4714-f141-be99c2192ef6"
      },
      "outputs": [
        {
          "output_type": "stream",
          "name": "stdout",
          "text": [
            "Drive already mounted at /content/gdrive; to attempt to forcibly remount, call drive.mount(\"/content/gdrive\", force_remount=True).\n"
          ]
        }
      ],
      "source": [
        "import numpy as np\n",
        "import pandas as pd\n",
        "from google.colab import drive\n",
        "drive.mount('/content/gdrive')"
      ]
    },
    {
      "cell_type": "code",
      "source": [
        "path_co2_em = \"/content/gdrive/MyDrive/data_science/emisiones_co2_kt.csv\"\n",
        "path_area_selv = \"/content/gdrive/MyDrive/data_science/area_selvatica.csv\"\n",
        "path_cons_elec = \"/content/gdrive/MyDrive/data_science/consumo_de_energia_electrica.csv\"\n",
        "path_prod_elec_ren = \"/content/gdrive/MyDrive/data_science/produccion_energia_electrica_renovable.csv\"\n",
        "\n",
        "\n",
        "# estos seran los features seleccionados.\n",
        "# dataframe area selvatica\n",
        "df_ar_s = pd.read_csv(path_area_selv)\n",
        "\n",
        "# dataframe co2 emitido\n",
        "df_co2 = pd.read_csv(path_co2_em)\n",
        "\n",
        "# dataframe consumo electrico\n",
        "df_con_elc = pd.read_csv(path_cons_elec)\n",
        "\n",
        "# dataframe produc electrica renovable\n",
        "df_prod_elc_ren = pd.read_csv(path_prod_elec_ren)"
      ],
      "metadata": {
        "id": "3DDiBvb-9P8J"
      },
      "execution_count": 61,
      "outputs": []
    },
    {
      "cell_type": "code",
      "source": [
        "# eliminamos columnas con valores nulos.\n",
        "\n",
        "array_columns = np.arange(1960, 1990).astype(str)\n",
        "df_co2.drop(columns=array_columns, inplace=True)\n",
        "df_ar_s.drop(columns=array_columns, inplace=True)\n",
        "df_con_elc.drop(columns=array_columns, inplace=True)\n",
        "df_prod_elc_ren.drop(columns=array_columns, inplace=True)"
      ],
      "metadata": {
        "id": "y2HcFXig5H4I"
      },
      "execution_count": 62,
      "outputs": []
    },
    {
      "cell_type": "code",
      "source": [
        "# filtramos para obtener los datos sobre Argentina ya que es el que nos interesa.\n",
        "# tambien dropeamos las columnas con informacion no deseada.\n",
        "\n",
        "arg_co2_em = df_co2[df_co2[\"Country Code\"] == \"ARG\"].drop(columns=[\"Country Name\", \"Country Code\", \"Indicator Name\", \"Indicator Code\"])\n",
        "arg_ar_s = df_ar_s[df_ar_s[\"Country Name\"] == \"Argentina\"].drop(columns=[\"Country Name\", \"Country Code\", \"Indicator Name\", \"Indicator Code\"])\n",
        "arg_con_elc = df_con_elc[df_con_elc[\"Country Name\"] == \"Argentina\"].drop(columns=[\"Country Name\", \"Country Code\", \"Indicator Name\", \"Indicator Code\"])\n",
        "arg_prd_elc_ren = df_prod_elc_ren[df_prod_elc_ren[\"Country Name\"] == \"Argentina\"].drop(columns=[\"Country Name\", \"Country Code\", \"Indicator Name\", \"Indicator Code\"])"
      ],
      "metadata": {
        "id": "gbLf_8z7PCkt"
      },
      "execution_count": 63,
      "outputs": []
    },
    {
      "cell_type": "code",
      "source": [
        "# transponemos la matris, ya que es mas practico tener de filas a los anos y en las columnas los features que hemos decidido analizar previamente.\n",
        "\n",
        "arg_co2_em = arg_co2_em.transpose()\n",
        "arg_ar_s = arg_ar_s.transpose()\n",
        "arg_con_elc = arg_con_elc.transpose()\n",
        "arg_prd_elc_ren = arg_prd_elc_ren.transpose()"
      ],
      "metadata": {
        "id": "nfBLHwTHTvK3"
      },
      "execution_count": 64,
      "outputs": []
    },
    {
      "cell_type": "code",
      "source": [
        "# renombramos las columnas\n",
        "\n",
        "arg_co2_em.columns = [\"co2Emission\"]\n",
        "arg_ar_s.columns = [\"jungleArea\"]\n",
        "arg_con_elc.columns = [\"electrCons\"]\n",
        "arg_prd_elc_ren.columns = [\"renElectrProd\"]"
      ],
      "metadata": {
        "id": "IQ25zBbkYQl9"
      },
      "execution_count": 65,
      "outputs": []
    },
    {
      "cell_type": "code",
      "source": [
        "#creamos el nuevo dataframe que tendra dichas columnas\n",
        "df_clean = pd.DataFrame()\n",
        "df_clean[\"jungleArea\"] = arg_ar_s\n",
        "df_clean[\"electrCons\"] = arg_con_elc\n",
        "df_clean[\"renElectrProd\"] = arg_prd_elc_ren\n"
      ],
      "metadata": {
        "id": "w3Tlf16GZ8LV"
      },
      "execution_count": 66,
      "outputs": []
    },
    {
      "cell_type": "code",
      "source": [
        "# seleccionamos la variable a predecir\n",
        "Y = arg_co2_em.co2Emission.dropna()\n",
        "\n",
        "# especificamos los features\n",
        "test_features = [\"jungleArea\", \"electrCons\", \"renElectrProd\"]\n",
        "X = df_clean[test_features].dropna()"
      ],
      "metadata": {
        "id": "V1MimK_KYMwG"
      },
      "execution_count": 67,
      "outputs": []
    },
    {
      "cell_type": "code",
      "source": [
        "Y.drop(labels=[\"2015\", \"2016\", \"2017\", \"2018\"], inplace=True)"
      ],
      "metadata": {
        "id": "rMUftsD1b8r3"
      },
      "execution_count": 68,
      "outputs": []
    },
    {
      "cell_type": "code",
      "source": [
        "from sklearn.tree import DecisionTreeRegressor\n",
        "from sklearn.model_selection import train_test_split\n",
        "from sklearn.metrics import mean_absolute_error\n",
        "\n",
        "train_X, val_X, train_Y, val_Y = train_test_split(X, Y, random_state=0, test_size = 0.5)\n",
        "\n",
        "# definimos el modelo de ML a utilizar\n",
        "co2_pred_model = DecisionTreeRegressor(random_state=1)\n",
        "\n",
        "# entrenamos el modelo\n",
        "co2_pred_model.fit(train_X, train_Y)\n"
      ],
      "metadata": {
        "colab": {
          "base_uri": "https://localhost:8080/"
        },
        "id": "Dt4qe7avaobj",
        "outputId": "4b885895-2bed-414b-9022-c650728e77e5"
      },
      "execution_count": 69,
      "outputs": [
        {
          "output_type": "execute_result",
          "data": {
            "text/plain": [
              "DecisionTreeRegressor(random_state=1)"
            ]
          },
          "metadata": {},
          "execution_count": 69
        }
      ]
    },
    {
      "cell_type": "code",
      "source": [
        "# obtenemos la prediccion de la validacion y comparamos el error.\n",
        "\n",
        "val_predictions = co2_pred_model.predict(val_X)\n",
        "print(mean_absolute_error(val_Y, val_predictions))"
      ],
      "metadata": {
        "colab": {
          "base_uri": "https://localhost:8080/"
        },
        "id": "oLE-PbDijw7J",
        "outputId": "13a7661a-cdb6-4da1-b462-0f6c16f1f2dc"
      },
      "execution_count": 70,
      "outputs": [
        {
          "output_type": "stream",
          "name": "stdout",
          "text": [
            "5222.307692307692\n"
          ]
        }
      ]
    },
    {
      "cell_type": "markdown",
      "source": [
        "Vemos que tenemos un error aproximado de 5222 kt.\n",
        "\n",
        "Ahora podemos hacer un analisis mas extenso de este valor obtenido.\n",
        "Si nos fijamos cual es el promedio de emisiones de co2 de parte de Argentina veremos que:\n",
        "\n"
      ],
      "metadata": {
        "id": "G86AhyOo1rcO"
      }
    },
    {
      "cell_type": "code",
      "source": [
        "print(f\"Argentina tiene un promedio de emision de co2 de : {np.mean(arg_co2_em)[0]}\")"
      ],
      "metadata": {
        "colab": {
          "base_uri": "https://localhost:8080/"
        },
        "id": "n_7qRZDKm7Zq",
        "outputId": "d662968a-5fc1-4fcb-8a57-d58b74bec7d6"
      },
      "execution_count": 76,
      "outputs": [
        {
          "output_type": "stream",
          "name": "stdout",
          "text": [
            "Argentina tiene un promedio de emision de co2 de :145638.27586206896\n"
          ]
        }
      ]
    },
    {
      "cell_type": "markdown",
      "source": [
        "Por lo que tener un error de 5222 kt parece indicar que nuestro modelo no es muy exacto.\n",
        "\n",
        "Esto podria deberse a que nuestro modelo pueda estar underfitting o que nuestra seleccion de features no haya sido muy inteligente.\n",
        "\n",
        "Vamos a buscar mas features para ayudar a nuestro modelo a predecir mejor."
      ],
      "metadata": {
        "id": "VTUqPjZE2fxI"
      }
    }
  ]
}